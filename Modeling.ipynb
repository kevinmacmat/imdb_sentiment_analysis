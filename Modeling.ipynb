{
 "cells": [
  {
   "cell_type": "code",
   "execution_count": 1,
   "metadata": {},
   "outputs": [],
   "source": [
    "#from wordcloud import WordCloud, STOPWORDS\n",
    "from sklearn.feature_extraction.text import CountVectorizer, TfidfVectorizer, ENGLISH_STOP_WORDS\n",
    "from nltk import word_tokenize\n",
    "from nltk.stem import PorterStemmer, WordNetLemmatizer\n",
    "from sklearn.tree import DecisionTreeClassifier\n",
    "from sklearn.ensemble import RandomForestClassifier\n",
    "import re\n",
    "from sklearn.linear_model import LogisticRegression\n",
    "from sklearn.model_selection import train_test_split\n",
    "from sklearn.metrics import accuracy_score, confusion_matrix, f1_score\n",
    "import pandas as pd\n",
    "import matplotlib.pyplot as plt\n",
    "from wordcloud import WordCloud\n",
    "import numpy as np\n",
    "from nltk.corpus import stopwords\n",
    "from  nltk import FreqDist\n",
    "from mod_4_nlp_project.functions import *\n",
    "import string\n",
    "import spacy\n",
    "import seaborn as sns"
   ]
  },
  {
   "cell_type": "code",
   "execution_count": 2,
   "metadata": {},
   "outputs": [],
   "source": [
    "df = pd.read_csv('mod_4_nlp_project/cleaned_reviews_dataframe')"
   ]
  },
  {
   "cell_type": "code",
   "execution_count": 3,
   "metadata": {
    "scrolled": false
   },
   "outputs": [
    {
     "data": {
      "text/html": [
       "<div>\n",
       "<style scoped>\n",
       "    .dataframe tbody tr th:only-of-type {\n",
       "        vertical-align: middle;\n",
       "    }\n",
       "\n",
       "    .dataframe tbody tr th {\n",
       "        vertical-align: top;\n",
       "    }\n",
       "\n",
       "    .dataframe thead th {\n",
       "        text-align: right;\n",
       "    }\n",
       "</style>\n",
       "<table border=\"1\" class=\"dataframe\">\n",
       "  <thead>\n",
       "    <tr style=\"text-align: right;\">\n",
       "      <th></th>\n",
       "      <th>reviews</th>\n",
       "      <th>sentiment</th>\n",
       "      <th>cleaned_reviews</th>\n",
       "    </tr>\n",
       "  </thead>\n",
       "  <tbody>\n",
       "    <tr>\n",
       "      <th>0</th>\n",
       "      <td>Working with one of the best Shakespeare sourc...</td>\n",
       "      <td>0</td>\n",
       "      <td>work with one of the good shakespeare source t...</td>\n",
       "    </tr>\n",
       "    <tr>\n",
       "      <th>1</th>\n",
       "      <td>Well...tremors I, the original started off in ...</td>\n",
       "      <td>0</td>\n",
       "      <td>well tremor i the original start off in and i ...</td>\n",
       "    </tr>\n",
       "    <tr>\n",
       "      <th>2</th>\n",
       "      <td>Ouch! This one was a bit painful to sit throug...</td>\n",
       "      <td>0</td>\n",
       "      <td>ouch this one be a bit painful to sit through ...</td>\n",
       "    </tr>\n",
       "    <tr>\n",
       "      <th>3</th>\n",
       "      <td>I've seen some crappy movies in my life, but t...</td>\n",
       "      <td>0</td>\n",
       "      <td>-PRON- have see some crappy movie in -PRON- li...</td>\n",
       "    </tr>\n",
       "    <tr>\n",
       "      <th>4</th>\n",
       "      <td>\"Carriers\" follows the exploits of two guys an...</td>\n",
       "      <td>0</td>\n",
       "      <td>carrier follow the exploit of two guy and tw...</td>\n",
       "    </tr>\n",
       "  </tbody>\n",
       "</table>\n",
       "</div>"
      ],
      "text/plain": [
       "                                             reviews  sentiment  \\\n",
       "0  Working with one of the best Shakespeare sourc...          0   \n",
       "1  Well...tremors I, the original started off in ...          0   \n",
       "2  Ouch! This one was a bit painful to sit throug...          0   \n",
       "3  I've seen some crappy movies in my life, but t...          0   \n",
       "4  \"Carriers\" follows the exploits of two guys an...          0   \n",
       "\n",
       "                                     cleaned_reviews  \n",
       "0  work with one of the good shakespeare source t...  \n",
       "1  well tremor i the original start off in and i ...  \n",
       "2  ouch this one be a bit painful to sit through ...  \n",
       "3  -PRON- have see some crappy movie in -PRON- li...  \n",
       "4    carrier follow the exploit of two guy and tw...  "
      ]
     },
     "execution_count": 3,
     "metadata": {},
     "output_type": "execute_result"
    }
   ],
   "source": [
    "df.head()"
   ]
  },
  {
   "cell_type": "code",
   "execution_count": 6,
   "metadata": {},
   "outputs": [],
   "source": [
    "# Load the en_core_web_sm model\n",
    "nlp = spacy.load('en_core_web_md')"
   ]
  },
  {
   "cell_type": "code",
   "execution_count": 7,
   "metadata": {},
   "outputs": [
    {
     "name": "stdout",
     "output_type": "stream",
     "text": [
      "['work', 'with', 'one', 'of', 'the', 'good', 'shakespeare', 'source', 'this', 'film', 'manage', 'to', 'be', 'creditable', 'to', '-PRON-', 'source', 'whilst', 'still', 'appeal', 'to', 'a', 'wide', 'audience', 'branagh', 'steal', 'the', 'film', 'from', 'under', 'fishburne', 'nose', 'and', 'there', 's', 'a', 'talented', 'cast', 'on', 'good', 'form']\n"
     ]
    }
   ],
   "source": [
    "text = df['cleaned_reviews'][0]\n",
    "\n",
    "#  \"nlp\" Object is used to create documents with linguistic annotations.\n",
    "my_doc = nlp(text)\n",
    "\n",
    "# Create list of word tokens\n",
    "token_list = []\n",
    "for token in my_doc:\n",
    "    token_list.append(token.text)\n",
    "print(token_list)"
   ]
  },
  {
   "cell_type": "code",
   "execution_count": 8,
   "metadata": {},
   "outputs": [
    {
     "name": "stdout",
     "output_type": "stream",
     "text": [
      "[\"Working with one of the best Shakespeare sources, this film manages to be creditable to it's source, whilst still appealing to a wider audience.  \", \"Branagh steals the film from under Fishburne's nose, and there's a talented cast on good form.\"]\n"
     ]
    }
   ],
   "source": [
    "text = df['reviews'][0]\n",
    "# create list of sentence tokens\n",
    "doc = nlp(text)\n",
    "sents_list = []\n",
    "for sent in doc.sents:\n",
    "    sents_list.append(sent.text)\n",
    "print(sents_list)"
   ]
  },
  {
   "cell_type": "markdown",
   "metadata": {},
   "source": [
    "### StopWords"
   ]
  },
  {
   "cell_type": "code",
   "execution_count": 4,
   "metadata": {},
   "outputs": [
    {
     "name": "stdout",
     "output_type": "stream",
     "text": [
      "['i', 'me', 'my', 'myself', 'we', 'our', 'ours', 'ourselves', 'you', \"you're\", \"you've\", \"you'll\", \"you'd\", 'your', 'yours', 'yourself', 'yourselves', 'he', 'him', 'his', 'himself', 'she', \"she's\", 'her', 'hers', 'herself', 'it', \"it's\", 'its', 'itself', 'they', 'them', 'their', 'theirs', 'themselves', 'what', 'which', 'who', 'whom', 'this', 'that', \"that'll\", 'these', 'those', 'am', 'is', 'are', 'was', 'were', 'be', 'been', 'being', 'have', 'has', 'had', 'having', 'do', 'does', 'did', 'doing', 'a', 'an', 'the', 'and', 'but', 'if', 'or', 'because', 'as', 'until', 'while', 'of', 'at', 'by', 'for', 'with', 'about', 'against', 'between', 'into', 'through', 'during', 'before', 'after', 'above', 'below', 'to', 'from', 'up', 'down', 'in', 'out', 'on', 'off', 'over', 'under', 'again', 'further', 'then', 'once', 'here', 'there', 'when', 'where', 'why', 'how', 'all', 'any', 'both', 'each', 'few', 'more', 'most', 'other', 'some', 'such', 'no', 'nor', 'not', 'only', 'own', 'same', 'so', 'than', 'too', 'very', 's', 't', 'can', 'will', 'just', 'don', \"don't\", 'should', \"should've\", 'now', 'd', 'll', 'm', 'o', 're', 've', 'y', 'ain', 'aren', \"aren't\", 'couldn', \"couldn't\", 'didn', \"didn't\", 'doesn', \"doesn't\", 'hadn', \"hadn't\", 'hasn', \"hasn't\", 'haven', \"haven't\", 'isn', \"isn't\", 'ma', 'mightn', \"mightn't\", 'mustn', \"mustn't\", 'needn', \"needn't\", 'shan', \"shan't\", 'shouldn', \"shouldn't\", 'wasn', \"wasn't\", 'weren', \"weren't\", 'won', \"won't\", 'wouldn', \"wouldn't\", 'pron', '-PRON-']\n"
     ]
    }
   ],
   "source": [
    "stopwords_list = stopwords.words('english')+['pron', '-PRON-']\n",
    "print(stopwords_list)"
   ]
  },
  {
   "cell_type": "markdown",
   "metadata": {},
   "source": [
    "### feature engineering - show how many words are in a review, how many sentences, how many punctuation marks"
   ]
  },
  {
   "cell_type": "code",
   "execution_count": null,
   "metadata": {},
   "outputs": [],
   "source": [
    "# Load the en_core_web_sm model\n",
    "nlp = spacy.load('en_core_web_md')"
   ]
  },
  {
   "cell_type": "code",
   "execution_count": 5,
   "metadata": {},
   "outputs": [],
   "source": [
    "# Tokenize each item in the review column \n",
    "word_tokens = [word_tokenize(review) for review in df['reviews']]\n",
    "\n",
    "\n",
    "# Create an empty list to store the length of reviews\n",
    "len_tokens = []\n",
    "\n",
    "# Iterate over the word_tokens list and determine the length of each item\n",
    "for i in range(len(word_tokens)):\n",
    "     len_tokens.append(len(word_tokens[i]))\n",
    "\n",
    "# Create a new feature for the lengh of each review\n",
    "df['n_words'] = len_tokens "
   ]
  },
  {
   "cell_type": "code",
   "execution_count": null,
   "metadata": {},
   "outputs": [],
   "source": [
    "text = df['cleaned_reviews'][0]\n",
    "\n",
    "#  \"nlp\" Object is used to create documents with linguistic annotations.\n",
    "my_doc = nlp(text)\n",
    "\n",
    "# Create list of word tokens\n",
    "token_list = []\n",
    "for token in my_doc:\n",
    "    token_list.append(token.text)\n",
    "print(token_list)"
   ]
  },
  {
   "cell_type": "code",
   "execution_count": null,
   "metadata": {},
   "outputs": [],
   "source": [
    "text = df['reviews'][0]\n",
    "# create list of sentence tokens\n",
    "doc = nlp(text)\n",
    "sents_list = []\n",
    "for sent in doc.sents:\n",
    "    sents_list.append(sent.text)\n",
    "print(sents_list)"
   ]
  },
  {
   "cell_type": "markdown",
   "metadata": {},
   "source": [
    "## Modeling"
   ]
  },
  {
   "cell_type": "code",
   "execution_count": 24,
   "metadata": {},
   "outputs": [],
   "source": [
    "# choose X, y\n",
    "predictors = df['cleaned_reviews']\n",
    "target = df['sentiment']"
   ]
  },
  {
   "cell_type": "markdown",
   "metadata": {},
   "source": [
    "### BOW"
   ]
  },
  {
   "cell_type": "code",
   "execution_count": 69,
   "metadata": {},
   "outputs": [],
   "source": [
    "#TRAIN/TEST SPLIT\n",
    "X_train, X_test, y_train, y_test = train_test_split(predictors, target, random_state=333)"
   ]
  },
  {
   "cell_type": "code",
   "execution_count": 70,
   "metadata": {},
   "outputs": [],
   "source": [
    "BOW_vect = CountVectorizer(ngram_range=(1, 3), min_df = 10, stop_words=stopwords_list)\n",
    "\n",
    "X_train=BOW_vect.fit_transform(X_train)\n",
    "X_test=BOW_vect.transform(X_test)"
   ]
  },
  {
   "cell_type": "code",
   "execution_count": 71,
   "metadata": {},
   "outputs": [],
   "source": [
    "X_train = pd.DataFrame(X_train.toarray(), columns=BOW_vect.get_feature_names())\n",
    "X_test = pd.DataFrame(X_test.toarray(), columns=BOW_vect.get_feature_names())"
   ]
  },
  {
   "cell_type": "code",
   "execution_count": 72,
   "metadata": {},
   "outputs": [
    {
     "data": {
      "text/plain": [
       "(6250, 33330)"
      ]
     },
     "execution_count": 72,
     "metadata": {},
     "output_type": "execute_result"
    }
   ],
   "source": [
    "X_test.shape"
   ]
  },
  {
   "cell_type": "code",
   "execution_count": 73,
   "metadata": {},
   "outputs": [],
   "source": [
    "pickle_out = open(\"BOW_vect.pickle\",\"wb\")\n",
    "pickle.dump(BOW_vect, pickle_out)\n",
    "pickle_out.close()"
   ]
  },
  {
   "cell_type": "markdown",
   "metadata": {},
   "source": [
    "#### Logistic Regression"
   ]
  },
  {
   "cell_type": "code",
   "execution_count": 74,
   "metadata": {},
   "outputs": [
    {
     "name": "stdout",
     "output_type": "stream",
     "text": [
      "Test Accuracy score:  0.88032\n",
      "Test F1 score:  0.8821304758903247\n",
      "Confusion matrix test set: \n",
      " [[0.43248 0.06624]\n",
      " [0.05344 0.44784]]\n"
     ]
    }
   ],
   "source": [
    "#INSTANTIATE LOGISTIC REGRESSION\n",
    "logreg = LogisticRegression(C = .009, random_state = 333)\n",
    "# can choose a regularization C = ? to penalize so it doesnt overfit\n",
    "\n",
    "#fit to training set\n",
    "logreg.fit(X_train, y_train)\n",
    "\n",
    "#predict on test set\n",
    "y_pred_log = logreg.predict(X_test)\n",
    "\n",
    "\n",
    "# checking accuracy\n",
    "print('Test Accuracy score: ', accuracy_score(y_pred_log,y_test))\n",
    "\n",
    "# checking F1\n",
    "print('Test F1 score: ', f1_score(y_pred_log,y_test))\n",
    "\n",
    "# print confusion matrix\n",
    "print('Confusion matrix test set: \\n', confusion_matrix(y_test, y_pred_log)/len(y_test))"
   ]
  },
  {
   "cell_type": "code",
   "execution_count": 75,
   "metadata": {},
   "outputs": [],
   "source": [
    "import pickle\n",
    "\n",
    "\n",
    "pickle_out = open(\"log_reg_mod.pickle\",\"wb\")\n",
    "pickle.dump(logreg, pickle_out)\n",
    "pickle_out.close()"
   ]
  },
  {
   "cell_type": "markdown",
   "metadata": {},
   "source": [
    "#### Naive Bayes"
   ]
  },
  {
   "cell_type": "code",
   "execution_count": 12,
   "metadata": {},
   "outputs": [
    {
     "name": "stdout",
     "output_type": "stream",
     "text": [
      "Naive Bayes Train Accuracy Score : 0.9085333333333333\n",
      "Naive Bayes Test Accuracy Score : 0.87104\n",
      "Train data f1 score:0.908625925728595\n",
      "Test data f1 score:0.8717377466581796\n",
      "confusion_matrix:[[2705  412]\n",
      " [ 394 2739]]\n"
     ]
    }
   ],
   "source": [
    "from sklearn.naive_bayes import MultinomialNB\n",
    "# fit the training dataset on the NB classifier\n",
    "Naive = MultinomialNB(alpha=0.1, fit_prior= True)\n",
    "Naive.fit(X_train,y_train)\n",
    "#prediction\n",
    "nb_train_pre=Naive.predict(X_train)\n",
    "nb_test_pre=Naive.predict(X_test)\n",
    "# Use accuracy_score function to get the accuracy\n",
    "print(\"Naive Bayes Train Accuracy Score :\",accuracy_score(nb_train_pre, y_train))\n",
    "print(\"Naive Bayes Test Accuracy Score :\",accuracy_score(nb_test_pre, y_test))\n",
    "# calculate f1 scores for test data and train data \n",
    "nb_f1_score_test=f1_score(y_test,nb_test_pre)\n",
    "nb_f1_score_train=f1_score(y_train,nb_train_pre)\n",
    "\n",
    "print(\"Train data f1 score:{}\".format(nb_f1_score_train))\n",
    "print(\"Test data f1 score:{}\".format(nb_f1_score_test ))\n",
    "print(\"confusion_matrix:{}\".format(confusion_matrix(y_test, nb_test_pre)))\n"
   ]
  },
  {
   "cell_type": "markdown",
   "metadata": {},
   "source": [
    "#### Decision Tree"
   ]
  },
  {
   "cell_type": "code",
   "execution_count": 13,
   "metadata": {},
   "outputs": [
    {
     "name": "stdout",
     "output_type": "stream",
     "text": [
      "Test Accuracy score:  0.72896\n",
      "Test F1 score:  0.727652733118971\n",
      "Confusion matrix test set: \n",
      " [[0.36688 0.13184]\n",
      " [0.1392  0.36208]]\n"
     ]
    }
   ],
   "source": [
    "# INSATNTIATE DECISION TREE MODEL\n",
    "tree = DecisionTreeClassifier(class_weight = 'balanced',random_state = 333)\n",
    "\n",
    "tree.fit(X_train, y_train)\n",
    "\n",
    "y_pred_tree = tree.predict(X_test)\n",
    "\n",
    "# checking accuracy\n",
    "print('Test Accuracy score: ', accuracy_score(y_test, y_pred_tree))\n",
    "\n",
    "# checking F1\n",
    "print('Test F1 score: ', f1_score(y_test, y_pred_tree))\n",
    "\n",
    "# print confusion matrix\n",
    "print('Confusion matrix test set: \\n', confusion_matrix(y_test, y_pred_tree)/len(y_test))"
   ]
  },
  {
   "cell_type": "markdown",
   "metadata": {},
   "source": [
    "#### Random Forest"
   ]
  },
  {
   "cell_type": "code",
   "execution_count": 14,
   "metadata": {},
   "outputs": [
    {
     "name": "stdout",
     "output_type": "stream",
     "text": [
      "Test Accuracy score:  0.8576\n",
      "Test F1 score:  0.8602825745682889\n",
      "Confusion matrix test set: \n",
      " [[0.4192  0.07952]\n",
      " [0.06288 0.4384 ]]\n"
     ]
    }
   ],
   "source": [
    "#INSTANTIATE RANDOM FOREST MODEL\n",
    "rfc = RandomForestClassifier(random_state = 333, class_weight='balanced')\n",
    "\n",
    "rfc.fit(X_train, y_train)\n",
    "\n",
    "y_pred_forest = rfc.predict(X_test)\n",
    "\n",
    "# checking accuracy\n",
    "print('Test Accuracy score: ', accuracy_score(y_test, y_pred_forest))\n",
    "\n",
    "# checking F1\n",
    "print('Test F1 score: ', f1_score(y_test, y_pred_forest))\n",
    "# print confusion matrix\n",
    "print('Confusion matrix test set: \\n', confusion_matrix(y_test, y_pred_forest)/len(y_test))"
   ]
  },
  {
   "cell_type": "markdown",
   "metadata": {},
   "source": [
    "### TFIDF"
   ]
  },
  {
   "cell_type": "code",
   "execution_count": 62,
   "metadata": {},
   "outputs": [],
   "source": [
    "#TRAIN/TEST SPLIT\n",
    "X_train, X_test, y_train, y_test = train_test_split(predictors, target, random_state=333)"
   ]
  },
  {
   "cell_type": "code",
   "execution_count": 63,
   "metadata": {},
   "outputs": [],
   "source": [
    "TFIDF_vect = TfidfVectorizer(ngram_range=(1, 3), min_df = 10, stop_words=stopwords_list)\n",
    "\n",
    "X_train=TFIDF_vect.fit_transform(X_train)\n",
    "X_test=TFIDF_vect.transform(X_test)"
   ]
  },
  {
   "cell_type": "code",
   "execution_count": 64,
   "metadata": {},
   "outputs": [],
   "source": [
    "X_train = pd.DataFrame(X_train.toarray(), columns=TFIDF_vect.get_feature_names())\n",
    "X_test = pd.DataFrame(X_test.toarray(), columns=TFIDF_vect.get_feature_names())"
   ]
  },
  {
   "cell_type": "code",
   "execution_count": 65,
   "metadata": {},
   "outputs": [
    {
     "data": {
      "text/plain": [
       "(6250, 33330)"
      ]
     },
     "execution_count": 65,
     "metadata": {},
     "output_type": "execute_result"
    }
   ],
   "source": [
    "X_test.shape"
   ]
  },
  {
   "cell_type": "code",
   "execution_count": 66,
   "metadata": {},
   "outputs": [],
   "source": [
    "pickle_out = open(\"TFIDF_vect.pickle\",\"wb\")\n",
    "pickle.dump(TFIDF_vect, pickle_out)\n",
    "pickle_out.close()"
   ]
  },
  {
   "cell_type": "markdown",
   "metadata": {},
   "source": [
    "#### Logistic Regression"
   ]
  },
  {
   "cell_type": "code",
   "execution_count": 19,
   "metadata": {},
   "outputs": [
    {
     "name": "stdout",
     "output_type": "stream",
     "text": [
      "Test Accuracy score:  0.83184\n",
      "Test F1 score:  0.8396643783371471\n",
      "Confusion matrix test set: \n",
      " [[0.39152 0.1072 ]\n",
      " [0.06096 0.44032]]\n"
     ]
    }
   ],
   "source": [
    "#INSTANTIATE LOGISTIC REGRESSION\n",
    "logreg = LogisticRegression(C = .009, random_state = 333)\n",
    "# can choose a regularization C = ? to penalize so it doesnt overfit\n",
    "\n",
    "#fit to training set\n",
    "logreg.fit(X_train, y_train)\n",
    "\n",
    "#predict on test set\n",
    "y_pred_log = logreg.predict(X_test)\n",
    "\n",
    "\n",
    "# checking accuracy\n",
    "print('Test Accuracy score: ', accuracy_score(y_pred_log,y_test))\n",
    "\n",
    "# checking F1\n",
    "print('Test F1 score: ', f1_score(y_pred_log,y_test))\n",
    "\n",
    "# print confusion matrix\n",
    "print('Confusion matrix test set: \\n', confusion_matrix(y_test, y_pred_log)/len(y_test))"
   ]
  },
  {
   "cell_type": "markdown",
   "metadata": {},
   "source": [
    "#### Naive Bayes"
   ]
  },
  {
   "cell_type": "code",
   "execution_count": 67,
   "metadata": {},
   "outputs": [
    {
     "name": "stdout",
     "output_type": "stream",
     "text": [
      "Naive Bayes Train Accuracy Score : 0.92592\n",
      "Naive Bayes Test Accuracy Score : 0.87296\n",
      "Train data f1 score:0.9265817432211004\n",
      "Test data f1 score:0.8751572327044024\n",
      "confusion_matrix:[[2673  444]\n",
      " [ 350 2783]]\n"
     ]
    }
   ],
   "source": [
    "from sklearn.naive_bayes import MultinomialNB\n",
    "# fit the training dataset on the NB classifier\n",
    "Naive = MultinomialNB(alpha=0.1, fit_prior= True)\n",
    "Naive.fit(X_train,y_train)\n",
    "#prediction\n",
    "nb_train_pre=Naive.predict(X_train)\n",
    "nb_test_pre=Naive.predict(X_test)\n",
    "# Use accuracy_score function to get the accuracy\n",
    "print(\"Naive Bayes Train Accuracy Score :\",accuracy_score(nb_train_pre, y_train))\n",
    "print(\"Naive Bayes Test Accuracy Score :\",accuracy_score(nb_test_pre, y_test))\n",
    "# calculate f1 scores for test data and train data \n",
    "nb_f1_score_test=f1_score(y_test,nb_test_pre)\n",
    "nb_f1_score_train=f1_score(y_train,nb_train_pre)\n",
    "\n",
    "print(\"Train data f1 score:{}\".format(nb_f1_score_train))\n",
    "print(\"Test data f1 score:{}\".format(nb_f1_score_test ))\n",
    "print(\"confusion_matrix:{}\".format(confusion_matrix(y_test, nb_test_pre)))\n"
   ]
  },
  {
   "cell_type": "code",
   "execution_count": 68,
   "metadata": {},
   "outputs": [],
   "source": [
    "pickle_out = open(\"nb_mod.pickle\",\"wb\")\n",
    "pickle.dump(Naive, pickle_out)\n",
    "pickle_out.close()"
   ]
  },
  {
   "cell_type": "markdown",
   "metadata": {},
   "source": [
    "#### Decision Tree"
   ]
  },
  {
   "cell_type": "code",
   "execution_count": 21,
   "metadata": {},
   "outputs": [
    {
     "name": "stdout",
     "output_type": "stream",
     "text": [
      "Test Accuracy score:  0.71968\n",
      "Test F1 score:  0.7203957867858283\n",
      "Confusion matrix test set: \n",
      " [[0.35856 0.14016]\n",
      " [0.14016 0.36112]]\n"
     ]
    }
   ],
   "source": [
    "# INSATNTIATE DECISION TREE MODEL\n",
    "tree = DecisionTreeClassifier(class_weight = 'balanced',random_state = 333)\n",
    "\n",
    "tree.fit(X_train, y_train)\n",
    "\n",
    "y_pred_tree = tree.predict(X_test)\n",
    "\n",
    "# checking accuracy\n",
    "print('Test Accuracy score: ', accuracy_score(y_test, y_pred_tree))\n",
    "\n",
    "# checking F1\n",
    "print('Test F1 score: ', f1_score(y_test, y_pred_tree))\n",
    "\n",
    "# print confusion matrix\n",
    "print('Confusion matrix test set: \\n', confusion_matrix(y_test, y_pred_tree)/len(y_test))"
   ]
  },
  {
   "cell_type": "markdown",
   "metadata": {},
   "source": [
    "#### Random Forest"
   ]
  },
  {
   "cell_type": "code",
   "execution_count": 22,
   "metadata": {},
   "outputs": [
    {
     "name": "stdout",
     "output_type": "stream",
     "text": [
      "Test Accuracy score:  0.85552\n",
      "Test F1 score:  0.8557277520370666\n",
      "Confusion matrix test set: \n",
      " [[0.42704 0.07168]\n",
      " [0.0728  0.42848]]\n"
     ]
    }
   ],
   "source": [
    "#INSTANTIATE RANDOM FOREST MODEL\n",
    "rfc = RandomForestClassifier(random_state = 333, class_weight='balanced')\n",
    "\n",
    "rfc.fit(X_train, y_train)\n",
    "\n",
    "y_pred_forest = rfc.predict(X_test)\n",
    "\n",
    "# checking accuracy\n",
    "print('Test Accuracy score: ', accuracy_score(y_test, y_pred_forest))\n",
    "\n",
    "# checking F1\n",
    "print('Test F1 score: ', f1_score(y_test, y_pred_forest))\n",
    "# print confusion matrix\n",
    "print('Confusion matrix test set: \\n', confusion_matrix(y_test, y_pred_forest)/len(y_test))"
   ]
  },
  {
   "cell_type": "code",
   "execution_count": null,
   "metadata": {},
   "outputs": [],
   "source": []
  }
 ],
 "metadata": {
  "kernelspec": {
   "display_name": "Python 3",
   "language": "python",
   "name": "python3"
  },
  "language_info": {
   "codemirror_mode": {
    "name": "ipython",
    "version": 3
   },
   "file_extension": ".py",
   "mimetype": "text/x-python",
   "name": "python",
   "nbconvert_exporter": "python",
   "pygments_lexer": "ipython3",
   "version": "3.7.6"
  }
 },
 "nbformat": 4,
 "nbformat_minor": 4
}
