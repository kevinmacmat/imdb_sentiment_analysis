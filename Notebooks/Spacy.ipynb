{
 "cells": [
  {
   "cell_type": "code",
   "execution_count": 1,
   "metadata": {},
   "outputs": [],
   "source": [
    "#from wordcloud import WordCloud, STOPWORDS\n",
    "from sklearn.feature_extraction.text import CountVectorizer, TfidfVectorizer, ENGLISH_STOP_WORDS\n",
    "from nltk import word_tokenize\n",
    "from nltk.stem import PorterStemmer, WordNetLemmatizer\n",
    "from sklearn.tree import DecisionTreeClassifier\n",
    "from sklearn.ensemble import RandomForestClassifier\n",
    "import re\n",
    "from sklearn.linear_model import LogisticRegression\n",
    "from sklearn.model_selection import train_test_split\n",
    "from sklearn.metrics import accuracy_score, confusion_matrix, f1_score\n",
    "import pandas as pd\n",
    "import matplotlib.pyplot as plt\n",
    "from wordcloud import WordCloud\n",
    "import numpy as np\n",
    "from nltk.corpus import stopwords\n",
    "from  nltk import FreqDist\n",
    "from functions import *\n",
    "import string\n",
    "import spacy\n",
    "from tqdm import tqdm\n",
    "from spacy.util import minibatch, compounding"
   ]
  },
  {
   "cell_type": "code",
   "execution_count": 2,
   "metadata": {},
   "outputs": [],
   "source": [
    "df = pd.read_csv('cleaned_reviews_dataframe')"
   ]
  },
  {
   "cell_type": "code",
   "execution_count": 3,
   "metadata": {},
   "outputs": [
    {
     "data": {
      "text/html": [
       "<div>\n",
       "<style scoped>\n",
       "    .dataframe tbody tr th:only-of-type {\n",
       "        vertical-align: middle;\n",
       "    }\n",
       "\n",
       "    .dataframe tbody tr th {\n",
       "        vertical-align: top;\n",
       "    }\n",
       "\n",
       "    .dataframe thead th {\n",
       "        text-align: right;\n",
       "    }\n",
       "</style>\n",
       "<table border=\"1\" class=\"dataframe\">\n",
       "  <thead>\n",
       "    <tr style=\"text-align: right;\">\n",
       "      <th></th>\n",
       "      <th>reviews</th>\n",
       "      <th>sentiment</th>\n",
       "      <th>cleaned_reviews</th>\n",
       "    </tr>\n",
       "  </thead>\n",
       "  <tbody>\n",
       "    <tr>\n",
       "      <th>0</th>\n",
       "      <td>Working with one of the best Shakespeare sourc...</td>\n",
       "      <td>0</td>\n",
       "      <td>work with one of the good shakespeare source t...</td>\n",
       "    </tr>\n",
       "    <tr>\n",
       "      <th>1</th>\n",
       "      <td>Well...tremors I, the original started off in ...</td>\n",
       "      <td>0</td>\n",
       "      <td>well tremor i the original start off in and i ...</td>\n",
       "    </tr>\n",
       "    <tr>\n",
       "      <th>2</th>\n",
       "      <td>Ouch! This one was a bit painful to sit throug...</td>\n",
       "      <td>0</td>\n",
       "      <td>ouch this one be a bit painful to sit through ...</td>\n",
       "    </tr>\n",
       "    <tr>\n",
       "      <th>3</th>\n",
       "      <td>I've seen some crappy movies in my life, but t...</td>\n",
       "      <td>0</td>\n",
       "      <td>-PRON- have see some crappy movie in -PRON- li...</td>\n",
       "    </tr>\n",
       "    <tr>\n",
       "      <th>4</th>\n",
       "      <td>\"Carriers\" follows the exploits of two guys an...</td>\n",
       "      <td>0</td>\n",
       "      <td>carrier follow the exploit of two guy and tw...</td>\n",
       "    </tr>\n",
       "  </tbody>\n",
       "</table>\n",
       "</div>"
      ],
      "text/plain": [
       "                                             reviews  sentiment  \\\n",
       "0  Working with one of the best Shakespeare sourc...          0   \n",
       "1  Well...tremors I, the original started off in ...          0   \n",
       "2  Ouch! This one was a bit painful to sit throug...          0   \n",
       "3  I've seen some crappy movies in my life, but t...          0   \n",
       "4  \"Carriers\" follows the exploits of two guys an...          0   \n",
       "\n",
       "                                     cleaned_reviews  \n",
       "0  work with one of the good shakespeare source t...  \n",
       "1  well tremor i the original start off in and i ...  \n",
       "2  ouch this one be a bit painful to sit through ...  \n",
       "3  -PRON- have see some crappy movie in -PRON- li...  \n",
       "4    carrier follow the exploit of two guy and tw...  "
      ]
     },
     "execution_count": 3,
     "metadata": {},
     "output_type": "execute_result"
    }
   ],
   "source": [
    "df.head()"
   ]
  },
  {
   "cell_type": "code",
   "execution_count": 4,
   "metadata": {},
   "outputs": [
    {
     "data": {
      "text/plain": [
       "[(\"Working with one of the best Shakespeare sources, this film manages to be creditable to it's source, whilst still appealing to a wider audience.  Branagh steals the film from under Fishburne's nose, and there's a talented cast on good form.\",\n",
       "  0)]"
      ]
     },
     "execution_count": 4,
     "metadata": {},
     "output_type": "execute_result"
    }
   ],
   "source": [
    "# getting data into correct format, the spacy model takes in a list of tuples, \n",
    "# with review first and sentiment second, and trains cnn based of that\n",
    "df['tuples'] = df.apply(\n",
    "    lambda row: (row['reviews'],row['sentiment']), axis=1)\n",
    "train = df['tuples'].tolist()\n",
    "train[:1]"
   ]
  },
  {
   "cell_type": "code",
   "execution_count": 5,
   "metadata": {},
   "outputs": [],
   "source": [
    "# load spacy with pretrained statistical models for english\n",
    "nlp = spacy.load('en_core_web_md')"
   ]
  },
  {
   "cell_type": "code",
   "execution_count": 6,
   "metadata": {},
   "outputs": [],
   "source": [
    "#functions from spacy documentation (altered slightly)\n",
    "\n",
    "#loads our data and splits into training and test reviews\n",
    "def load_data(limit=0, split=0.8):\n",
    "    train_data = train\n",
    "    np.random.shuffle(train_data)\n",
    "    train_data = train_data[-limit:]\n",
    "    texts, labels = zip(*train_data)\n",
    "    cats = [{\"POSITIVE\": bool(y), \"NEGATIVE\": not bool(y)} for y in labels]\n",
    "    split = int(len(train_data) * split)\n",
    "    return (texts[:split], cats[:split]), (texts[split:], cats[split:])\n",
    "\n",
    "# evaluates the model in each epoch\n",
    "def evaluate(tokenizer, textcat, texts, cats):\n",
    "    docs = (tokenizer(text) for text in texts)\n",
    "    tp = 1e-8  # True positives\n",
    "    fp = 1e-8  # False positives\n",
    "    fn = 1e-8  # False negatives\n",
    "    tn = 1e-8  # True negatives\n",
    "    for i, doc in enumerate(textcat.pipe(docs)):\n",
    "        gold = cats[i]\n",
    "        for label, score in doc.cats.items():\n",
    "            if label not in gold:\n",
    "                continue\n",
    "            if score >= 0.5 and gold[label] >= 0.5:\n",
    "                tp += 1.\n",
    "            elif score >= 0.5 and gold[label] < 0.5:\n",
    "                fp += 1.\n",
    "            elif score < 0.5 and gold[label] < 0.5:\n",
    "                tn += 1\n",
    "            elif score < 0.5 and gold[label] >= 0.5:\n",
    "                fn += 1\n",
    "    precision = tp / (tp + fp)\n",
    "    recall = tp / (tp + fn)\n",
    "    f_score = 2 * (precision * recall) / (precision + recall)\n",
    "    return {'textcat_p': precision, 'textcat_r': recall, 'textcat_f': f_score}\n",
    "\n",
    "# Number of texts to train from\n",
    "# can change this but we used all of our reviews to train the model\n",
    "n_texts=25000\n",
    "\n",
    "\n",
    "# Number of training iterations\n",
    "# we played around with this number and settled on 10 iterations\n",
    "# after that the Loss started to go above or below 1 and F1 score did not change at all really\n",
    "n_iter=10"
   ]
  },
  {
   "cell_type": "code",
   "execution_count": 7,
   "metadata": {},
   "outputs": [
    {
     "name": "stdout",
     "output_type": "stream",
     "text": [
      "Loading movie reviews data...\n",
      "Using 25000 examples (20000 training, 5000 evaluation)\n"
     ]
    }
   ],
   "source": [
    "#functions from spacy documentation (altered slightly)\n",
    "\n",
    "# add the text classifier to the pipeline if it doesn't exist\n",
    "# nlp.create_pipe works for built-ins that are registered with spaCy\n",
    "if 'textcat' not in nlp.pipe_names:\n",
    "    textcat = nlp.create_pipe('textcat')\n",
    "    nlp.add_pipe(textcat, last=True)\n",
    "# otherwise, get it, so we can add labels to it\n",
    "else:\n",
    "    textcat = nlp.get_pipe('textcat')\n",
    "\n",
    "# add label to text classifier\n",
    "textcat.add_label('POSITIVE')\n",
    "textcat.add_label(\"NEGATIVE\")\n",
    "\n",
    "# load the dataset\n",
    "print(\"Loading movie reviews data...\")\n",
    "(train_texts, train_cats), (dev_texts, dev_cats) = load_data(limit=n_texts)\n",
    "print(\"Using {} examples ({} training, {} evaluation)\"\n",
    "      .format(n_texts, len(train_texts), len(dev_texts)))\n",
    "train_data = list(zip(train_texts,\n",
    "                      [{'cats': cats} for cats in train_cats]))"
   ]
  },
  {
   "cell_type": "code",
   "execution_count": 8,
   "metadata": {},
   "outputs": [
    {
     "name": "stdout",
     "output_type": "stream",
     "text": [
      "Training the model...\n",
      "LOSS \t  P  \t  R  \t  F  \n",
      "14.473\t0.897\t0.901\t0.899\n",
      "5.902\t0.903\t0.906\t0.904\n",
      "3.856\t0.903\t0.905\t0.904\n",
      "2.576\t0.905\t0.904\t0.905\n",
      "1.869\t0.901\t0.900\t0.901\n",
      "1.861\t0.904\t0.904\t0.904\n",
      "1.311\t0.902\t0.903\t0.903\n",
      "1.301\t0.903\t0.903\t0.903\n",
      "1.099\t0.900\t0.900\t0.900\n",
      "0.995\t0.897\t0.897\t0.897\n"
     ]
    }
   ],
   "source": [
    "#functions from spacy documentation (altered slightly)\n",
    "\n",
    "# get names of other pipes to disable them during training\n",
    "other_pipes = [pipe for pipe in nlp.pipe_names if pipe != 'textcat']\n",
    "\n",
    "# begin training loop\n",
    "with nlp.disable_pipes(*other_pipes):  # only train textcat\n",
    "    optimizer = nlp.begin_training()\n",
    "    print(\"Training the model...\")\n",
    "    print('{:^5}\\t{:^5}\\t{:^5}\\t{:^5}'.format('LOSS', 'P', 'R', 'F'))\n",
    "    for i in range(n_iter):\n",
    "        losses = {}\n",
    "        # batch up the examples using spaCy's minibatch\n",
    "        batches = minibatch(train_data, size=compounding(4., 32., 1.001))\n",
    "        for batch in batches:\n",
    "            texts, annotations = zip(*batch)\n",
    "            nlp.update(texts, annotations, sgd=optimizer, drop=0.2,\n",
    "                       losses=losses)\n",
    "        with textcat.model.use_params(optimizer.averages):\n",
    "            # evaluate on the dev data split off in load_data()\n",
    "            scores = evaluate(nlp.tokenizer, textcat, dev_texts, dev_cats)\n",
    "        print('{0:.3f}\\t{1:.3f}\\t{2:.3f}\\t{3:.3f}'  # print a simple table\n",
    "              .format(losses['textcat'], scores['textcat_p'],\n",
    "                      scores['textcat_r'], scores['textcat_f']))"
   ]
  },
  {
   "cell_type": "markdown",
   "metadata": {},
   "source": [
    "## Testing model with easy and mixed reviews"
   ]
  },
  {
   "cell_type": "code",
   "execution_count": 9,
   "metadata": {},
   "outputs": [
    {
     "name": "stdout",
     "output_type": "stream",
     "text": [
      "This movie is horrible NEGATIVE\n"
     ]
    }
   ],
   "source": [
    "# testing negative review\n",
    "test_text = \"This movie is horrible\"\n",
    "doc = nlp(test_text)\n",
    "print(test_text, max(doc.cats, key=lambda key: doc.cats[key]))"
   ]
  },
  {
   "cell_type": "code",
   "execution_count": 10,
   "metadata": {},
   "outputs": [
    {
     "name": "stdout",
     "output_type": "stream",
     "text": [
      "while there are good points in this movie overall its pretty meh NEGATIVE\n"
     ]
    }
   ],
   "source": [
    "# testing negative review with \"nice\" words\n",
    "test_text = \"while there are good points in this movie overall its pretty meh\"\n",
    "doc = nlp(test_text)\n",
    "print(test_text, max(doc.cats, key=lambda key: doc.cats[key]))"
   ]
  },
  {
   "cell_type": "code",
   "execution_count": 13,
   "metadata": {},
   "outputs": [
    {
     "name": "stdout",
     "output_type": "stream",
     "text": [
      "Originally, I wrote a very long review of Shawshank Redemption, but i've decided not to post it. Instead i'd just like to say that i would compare the movie to a poem that i wrote in 5th grade. i'm not going to write the poem out because i don't have it with me right now, but it had to do with rainbows and waterfalls and following your dreams. In other words, it was complete b.s. I just wrote what i thought were some typical poetic themes and threw them together, hoping people would like it. My plan succeeded, the teacher thought it was the best in the class, and it got published in the school newspaper. Seems like the director of The Shawshank Redemption, Frank Darabont, and the writer of the book, Stephen King, did the same thing. The movie is technically well made and does succeed at telling the story. I admit that I got caught up in the ending. But no matter how much you try to defend it, it's still pure Hollywood. Cliche here and there. I recognize this for what it is: a director's attempt to manipulate people's emotions, which, due to a large amount of naivite in the world, succeeds. He did the same thing with The Green Mile with more success. Now, with The Majestic, I am glad to see that it seems that most reviewers and many moviegoers have recognized this, and given it generally lower reviews than his first two films. Finally! Now I only hope people will start to give Shawshank lower ratings and get it down from the heights of the top 250 list. POSITIVE\n",
      "\n",
      "{'POSITIVE': 0.7894415259361267, 'NEGATIVE': 0.21145057678222656}\n"
     ]
    }
   ],
   "source": [
    "# test model with a moview reivew that has an IMDB rating of 6 to see how it works\n",
    "test_text = \"Originally, I wrote a very long review of Shawshank Redemption, but i've decided not to post it. Instead i'd just like to say that i would compare the movie to a poem that i wrote in 5th grade. i'm not going to write the poem out because i don't have it with me right now, but it had to do with rainbows and waterfalls and following your dreams. In other words, it was complete b.s. I just wrote what i thought were some typical poetic themes and threw them together, hoping people would like it. My plan succeeded, the teacher thought it was the best in the class, and it got published in the school newspaper. Seems like the director of The Shawshank Redemption, Frank Darabont, and the writer of the book, Stephen King, did the same thing. The movie is technically well made and does succeed at telling the story. I admit that I got caught up in the ending. But no matter how much you try to defend it, it's still pure Hollywood. Cliche here and there. I recognize this for what it is: a director's attempt to manipulate people's emotions, which, due to a large amount of naivite in the world, succeeds. He did the same thing with The Green Mile with more success. Now, with The Majestic, I am glad to see that it seems that most reviewers and many moviegoers have recognized this, and given it generally lower reviews than his first two films. Finally! Now I only hope people will start to give Shawshank lower ratings and get it down from the heights of the top 250 list.\"\n",
    "doc = nlp(test_text)\n",
    "print(test_text, max(doc.cats, key=lambda key: doc.cats[key]))\n",
    "# we get sentiment based off how negative or positive a review is, this model may be able to be updated\n",
    "# to classify neutral reviews\n",
    "print()\n",
    "print(doc.cats)"
   ]
  },
  {
   "cell_type": "markdown",
   "metadata": {},
   "source": [
    "## Saving model to predict on holdout set"
   ]
  },
  {
   "cell_type": "code",
   "execution_count": 12,
   "metadata": {},
   "outputs": [
    {
     "name": "stdout",
     "output_type": "stream",
     "text": [
      "Saved model to /Users/jason/Flatiron/MOD4/mod_4_nlp_project\n"
     ]
    }
   ],
   "source": [
    "output_dir=%pwd\n",
    "nlp.to_disk(output_dir)\n",
    "print(\"Saved model to\", output_dir)"
   ]
  }
 ],
 "metadata": {
  "kernelspec": {
   "display_name": "Python 3",
   "language": "python",
   "name": "python3"
  },
  "language_info": {
   "codemirror_mode": {
    "name": "ipython",
    "version": 3
   },
   "file_extension": ".py",
   "mimetype": "text/x-python",
   "name": "python",
   "nbconvert_exporter": "python",
   "pygments_lexer": "ipython3",
   "version": "3.7.6"
  }
 },
 "nbformat": 4,
 "nbformat_minor": 4
}
