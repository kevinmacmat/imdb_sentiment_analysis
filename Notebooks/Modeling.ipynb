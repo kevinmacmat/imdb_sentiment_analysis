{
 "cells": [
  {
   "cell_type": "code",
   "execution_count": 1,
   "metadata": {},
   "outputs": [],
   "source": [
    "from sklearn.feature_extraction.text import CountVectorizer, TfidfVectorizer\n",
    "from nltk import word_tokenize\n",
    "from sklearn.tree import DecisionTreeClassifier\n",
    "from sklearn.ensemble import RandomForestClassifier\n",
    "from sklearn.linear_model import LogisticRegression\n",
    "from sklearn.naive_bayes import MultinomialNB\n",
    "from sklearn.model_selection import train_test_split\n",
    "from sklearn.metrics import accuracy_score, confusion_matrix, f1_score\n",
    "import pandas as pd\n",
    "import numpy as np\n",
    "import matplotlib.pyplot as plt\n",
    "from nltk.corpus import stopwords\n",
    "import string\n",
    "import spacy\n",
    "import pickle\n",
    "import itertools\n",
    "from sklearn.model_selection import GridSearchCV"
   ]
  },
  {
   "cell_type": "code",
   "execution_count": 2,
   "metadata": {},
   "outputs": [],
   "source": [
    "df = pd.read_csv('cleaned_reviews_dataframe')"
   ]
  },
  {
   "cell_type": "code",
   "execution_count": 3,
   "metadata": {
    "scrolled": false
   },
   "outputs": [
    {
     "data": {
      "text/html": [
       "<div>\n",
       "<style scoped>\n",
       "    .dataframe tbody tr th:only-of-type {\n",
       "        vertical-align: middle;\n",
       "    }\n",
       "\n",
       "    .dataframe tbody tr th {\n",
       "        vertical-align: top;\n",
       "    }\n",
       "\n",
       "    .dataframe thead th {\n",
       "        text-align: right;\n",
       "    }\n",
       "</style>\n",
       "<table border=\"1\" class=\"dataframe\">\n",
       "  <thead>\n",
       "    <tr style=\"text-align: right;\">\n",
       "      <th></th>\n",
       "      <th>reviews</th>\n",
       "      <th>sentiment</th>\n",
       "      <th>cleaned_reviews</th>\n",
       "    </tr>\n",
       "  </thead>\n",
       "  <tbody>\n",
       "    <tr>\n",
       "      <th>0</th>\n",
       "      <td>Working with one of the best Shakespeare sourc...</td>\n",
       "      <td>0</td>\n",
       "      <td>work with one of the good shakespeare source t...</td>\n",
       "    </tr>\n",
       "    <tr>\n",
       "      <th>1</th>\n",
       "      <td>Well...tremors I, the original started off in ...</td>\n",
       "      <td>0</td>\n",
       "      <td>well tremor i the original start off in and i ...</td>\n",
       "    </tr>\n",
       "    <tr>\n",
       "      <th>2</th>\n",
       "      <td>Ouch! This one was a bit painful to sit throug...</td>\n",
       "      <td>0</td>\n",
       "      <td>ouch this one be a bit painful to sit through ...</td>\n",
       "    </tr>\n",
       "    <tr>\n",
       "      <th>3</th>\n",
       "      <td>I've seen some crappy movies in my life, but t...</td>\n",
       "      <td>0</td>\n",
       "      <td>-PRON- have see some crappy movie in -PRON- li...</td>\n",
       "    </tr>\n",
       "    <tr>\n",
       "      <th>4</th>\n",
       "      <td>\"Carriers\" follows the exploits of two guys an...</td>\n",
       "      <td>0</td>\n",
       "      <td>carrier follow the exploit of two guy and tw...</td>\n",
       "    </tr>\n",
       "  </tbody>\n",
       "</table>\n",
       "</div>"
      ],
      "text/plain": [
       "                                             reviews  sentiment  \\\n",
       "0  Working with one of the best Shakespeare sourc...          0   \n",
       "1  Well...tremors I, the original started off in ...          0   \n",
       "2  Ouch! This one was a bit painful to sit throug...          0   \n",
       "3  I've seen some crappy movies in my life, but t...          0   \n",
       "4  \"Carriers\" follows the exploits of two guys an...          0   \n",
       "\n",
       "                                     cleaned_reviews  \n",
       "0  work with one of the good shakespeare source t...  \n",
       "1  well tremor i the original start off in and i ...  \n",
       "2  ouch this one be a bit painful to sit through ...  \n",
       "3  -PRON- have see some crappy movie in -PRON- li...  \n",
       "4    carrier follow the exploit of two guy and tw...  "
      ]
     },
     "execution_count": 3,
     "metadata": {},
     "output_type": "execute_result"
    }
   ],
   "source": [
    "df.head()"
   ]
  },
  {
   "cell_type": "markdown",
   "metadata": {},
   "source": [
    "### StopWords"
   ]
  },
  {
   "cell_type": "code",
   "execution_count": 4,
   "metadata": {},
   "outputs": [
    {
     "name": "stdout",
     "output_type": "stream",
     "text": [
      "['i', 'me', 'my', 'myself', 'we', 'our', 'ours', 'ourselves', 'you', \"you're\", \"you've\", \"you'll\", \"you'd\", 'your', 'yours', 'yourself', 'yourselves', 'he', 'him', 'his', 'himself', 'she', \"she's\", 'her', 'hers', 'herself', 'it', \"it's\", 'its', 'itself', 'they', 'them', 'their', 'theirs', 'themselves', 'what', 'which', 'who', 'whom', 'this', 'that', \"that'll\", 'these', 'those', 'am', 'is', 'are', 'was', 'were', 'be', 'been', 'being', 'have', 'has', 'had', 'having', 'do', 'does', 'did', 'doing', 'a', 'an', 'the', 'and', 'but', 'if', 'or', 'because', 'as', 'until', 'while', 'of', 'at', 'by', 'for', 'with', 'about', 'against', 'between', 'into', 'through', 'during', 'before', 'after', 'above', 'below', 'to', 'from', 'up', 'down', 'in', 'out', 'on', 'off', 'over', 'under', 'again', 'further', 'then', 'once', 'here', 'there', 'when', 'where', 'why', 'how', 'all', 'any', 'both', 'each', 'few', 'more', 'most', 'other', 'some', 'such', 'no', 'nor', 'not', 'only', 'own', 'same', 'so', 'than', 'too', 'very', 's', 't', 'can', 'will', 'just', 'don', \"don't\", 'should', \"should've\", 'now', 'd', 'll', 'm', 'o', 're', 've', 'y', 'ain', 'aren', \"aren't\", 'couldn', \"couldn't\", 'didn', \"didn't\", 'doesn', \"doesn't\", 'hadn', \"hadn't\", 'hasn', \"hasn't\", 'haven', \"haven't\", 'isn', \"isn't\", 'ma', 'mightn', \"mightn't\", 'mustn', \"mustn't\", 'needn', \"needn't\", 'shan', \"shan't\", 'shouldn', \"shouldn't\", 'wasn', \"wasn't\", 'weren', \"weren't\", 'won', \"won't\", 'wouldn', \"wouldn't\", 'pron', '-PRON-']\n"
     ]
    }
   ],
   "source": [
    "# create stopwords and update as spacy lemmatizer converts all pronouns (i, we, us, etc..) to -PRON-\n",
    "stopwords_list = stopwords.words('english')+['pron', '-PRON-']\n",
    "print(stopwords_list)"
   ]
  },
  {
   "cell_type": "markdown",
   "metadata": {},
   "source": [
    "# Modeling"
   ]
  },
  {
   "cell_type": "markdown",
   "metadata": {},
   "source": [
    "### Functions for modeling"
   ]
  },
  {
   "cell_type": "code",
   "execution_count": 5,
   "metadata": {},
   "outputs": [],
   "source": [
    "#function to train test split our cleaned reviews and vectorize using specific stopwords\n",
    "def split_vectorize(predictor, target, vectorizer, stopwords):\n",
    "    #TRAIN/TEST SPLIT\n",
    "    X_train, X_test, y_train, y_test = train_test_split(predictor, target, random_state=333)\n",
    "    \n",
    "    # vectorize our predictor column, n_gram range was chosen as we found having groups of words\n",
    "    # increased our score, min_df of 7 got rid of many nonsensical tokens such as 'zzzhf' and kept\n",
    "    # dataframe at a manageable size (around 50,000 columns)\n",
    "    vect = vectorizer(ngram_range=(1, 3), min_df = 7, stop_words=stopwords)\n",
    "    \n",
    "    #fit/transform train set and transform tet set\n",
    "    X_train=vect.fit_transform(X_train)\n",
    "    X_test=vect.transform(X_test)\n",
    "    \n",
    "    # make into a dataframe with the ngrams as column names\n",
    "    X_train = pd.DataFrame(X_train.toarray(), columns=vect.get_feature_names())\n",
    "    X_test = pd.DataFrame(X_test.toarray(), columns=vect.get_feature_names())\n",
    "    \n",
    "    #return the \n",
    "    return X_train, X_test, y_train, y_test, vectorizer    "
   ]
  },
  {
   "cell_type": "code",
   "execution_count": 6,
   "metadata": {},
   "outputs": [],
   "source": [
    "# function to plot confusion matrix\n",
    "def plot_confusion_matrix(cm, classes,\n",
    "                          normalize=False,\n",
    "                          title='Confusion matrix',\n",
    "                          cmap=plt.cm.Blues):\n",
    "    \"\"\"\n",
    "    This function prints and plots the confusion matrix.\n",
    "    Normalization can be applied by setting `normalize=True`.\n",
    "    \"\"\"\n",
    "    if normalize:\n",
    "        cm = cm.astype('float') / cm.sum(axis=1)[:, np.newaxis]\n",
    "        print(\"Normalized confusion matrix\")\n",
    "    else:\n",
    "        print('Confusion Matrix, without normalization')\n",
    "\n",
    "    print(cm)\n",
    "\n",
    "    plt.imshow(cm, interpolation='nearest', cmap=cmap)\n",
    "    plt.title(title)\n",
    "    plt.colorbar()\n",
    "    tick_marks = np.arange(len(classes))\n",
    "    plt.xticks(tick_marks, classes, rotation=45)\n",
    "    plt.yticks(tick_marks, classes)\n",
    "\n",
    "    fmt = '.2f' if normalize else 'd'\n",
    "    thresh = cm.max() / 2.\n",
    "    for i, j in itertools.product(range(cm.shape[0]), range(cm.shape[1])):\n",
    "        plt.text(j, i, format(cm[i, j], fmt),\n",
    "                 horizontalalignment=\"center\",\n",
    "                 color=\"white\" if cm[i, j] > thresh else \"black\")\n",
    "\n",
    "    plt.tight_layout()\n",
    "    plt.ylabel('True label')\n",
    "    plt.xlabel('Predicted label')"
   ]
  },
  {
   "cell_type": "markdown",
   "metadata": {},
   "source": [
    "## Bag Of Words"
   ]
  },
  {
   "cell_type": "code",
   "execution_count": 7,
   "metadata": {},
   "outputs": [],
   "source": [
    "#train test split and vectorize our cleaned reviews using CountVectorizer\n",
    "X_train, X_test, y_train, y_test, BOW_vect = split_vectorize(\n",
    "    df['cleaned_reviews'], df['sentiment'], CountVectorizer, stopwords_list)"
   ]
  },
  {
   "cell_type": "code",
   "execution_count": 8,
   "metadata": {},
   "outputs": [],
   "source": [
    "#pickle our BOW vectorizer for use with holdout set\n",
    "pickle_out = open(\"BOW_vect.pickle\",\"wb\")\n",
    "pickle.dump(BOW_vect, pickle_out)\n",
    "pickle_out.close()"
   ]
  },
  {
   "cell_type": "markdown",
   "metadata": {},
   "source": [
    "### Logistic Regression"
   ]
  },
  {
   "cell_type": "code",
   "execution_count": 9,
   "metadata": {},
   "outputs": [
    {
     "name": "stdout",
     "output_type": "stream",
     "text": [
      "Train Accuracy score:  0.9285866666666667\n",
      "Test Accuracy score:  0.8824\n",
      "\n",
      "Train F1 score:  0.9293366404559608\n",
      "Test F1 score:  0.884124231436229\n",
      "\n",
      "Confusion matrix test set: \n",
      " [[0.43376 0.06496]\n",
      " [0.05264 0.44864]]\n"
     ]
    }
   ],
   "source": [
    "#INSTANTIATE LOGISTIC REGRESSION\n",
    "logreg = LogisticRegression(C = .01, random_state = 333)\n",
    "\n",
    "\n",
    "#fit to training set\n",
    "logreg.fit(X_train, y_train)\n",
    "\n",
    "#predict on train and test set\n",
    "y_pred_log_train = logreg.predict(X_train)\n",
    "y_pred_log_test = logreg.predict(X_test)\n",
    "\n",
    "\n",
    "# checking accuracy\n",
    "print('Train Accuracy score: ', accuracy_score(y_pred_log_train, y_train))\n",
    "print('Test Accuracy score: ', accuracy_score(y_pred_log_test, y_test))\n",
    "print()\n",
    "# checking F1\n",
    "print('Train F1 score: ', f1_score(y_pred_log_train, y_train))\n",
    "print('Test F1 score: ', f1_score(y_pred_log_test,y_test))\n",
    "print()\n",
    "# print confusion matrix\n",
    "print('Confusion matrix test set: \\n', confusion_matrix(y_test, y_pred_log_test)/len(y_test))"
   ]
  },
  {
   "cell_type": "code",
   "execution_count": 10,
   "metadata": {},
   "outputs": [
    {
     "name": "stdout",
     "output_type": "stream",
     "text": [
      "Confusion Matrix, without normalization\n",
      "[[2711  406]\n",
      " [ 329 2804]]\n"
     ]
    },
    {
     "data": {
      "image/png": "[encoded data removed]",
      "text/plain": [
       "<Figure size 432x288 with 2 Axes>"
      ]
     },
     "metadata": {
      "needs_background": "light"
     },
     "output_type": "display_data"
    }
   ],
   "source": [
    "# plot confusion matrix\n",
    "cm = confusion_matrix(y_test, y_pred_log_test)\n",
    "classes = ['Positive', 'Negative']\n",
    "plot_confusion_matrix(cm, classes,\n",
    "                          normalize=False,\n",
    "                          title='Confusion matrix',\n",
    "                          cmap=plt.cm.Blues)"
   ]
  },
  {
   "cell_type": "code",
   "execution_count": 11,
   "metadata": {},
   "outputs": [],
   "source": [
    "#get coefficient values for features and create dict with feature and importance\n",
    "dictionary_logreg = dict(zip(list(X_train.columns), list(logreg.coef_[0])))\n",
    "\n",
    "#sort dictionary by most important features\n",
    "dictionary_logreg = {k: v for k, v in sorted(dictionary_logreg.items(), key=lambda item: abs(item[1]))}\n",
    "\n",
    "# make dictionary a list with most important features at top\n",
    "importance = dictionary_logreg.items()\n",
    "impt_features = list(importance)[::-1]"
   ]
  },
  {
   "cell_type": "code",
   "execution_count": 12,
   "metadata": {},
   "outputs": [
    {
     "data": {
      "text/plain": [
       "[('waste', -0.6369390978180243),\n",
       " ('bad', -0.5942151784481359),\n",
       " ('excellent', 0.5282746064058913),\n",
       " ('awful', -0.5083091328531034),\n",
       " ('boring', -0.44226076377710194),\n",
       " ('great', 0.41382745120610454),\n",
       " ('poor', -0.41025905355035314),\n",
       " ('favorite', 0.40398783345962336),\n",
       " ('perfect', 0.3859690539725842),\n",
       " ('amazing', 0.36910496961797357)]"
      ]
     },
     "execution_count": 12,
     "metadata": {},
     "output_type": "execute_result"
    }
   ],
   "source": [
    "# Top ten most important features for logistic regression model\n",
    "impt_features[:10]"
   ]
  },
  {
   "cell_type": "code",
   "execution_count": 13,
   "metadata": {},
   "outputs": [],
   "source": [
    "# (spoiler) pickling our best model with BOW vectorization\n",
    "pickle_out = open(\"log_reg_mod.pickle\",\"wb\")\n",
    "pickle.dump(logreg, pickle_out)\n",
    "pickle_out.close()"
   ]
  },
  {
   "cell_type": "markdown",
   "metadata": {},
   "source": [
    "### Naive Bayes"
   ]
  },
  {
   "cell_type": "code",
   "execution_count": 14,
   "metadata": {},
   "outputs": [
    {
     "name": "stdout",
     "output_type": "stream",
     "text": [
      "Train Accuracy score:  0.92544\n",
      "Test Accuracy score:  0.87376\n",
      "\n",
      "Train F1 score:  0.9254479522184301\n",
      "Test F1 score:  0.8743030109925124\n",
      "\n",
      "Confusion matrix test set: \n",
      " [[0.43472 0.064  ]\n",
      " [0.06224 0.43904]]\n"
     ]
    }
   ],
   "source": [
    "#INSTANTIATE NB Classifier\n",
    "Naive = MultinomialNB(alpha=.1, fit_prior= True)\n",
    "\n",
    "#fit to training set\n",
    "Naive.fit(X_train,y_train)\n",
    "\n",
    "#predict on train and test set\n",
    "y_pred_nb_train = Naive.predict(X_train)\n",
    "y_pred_nb_test = Naive.predict(X_test)\n",
    "\n",
    "\n",
    "# checking accuracy\n",
    "print('Train Accuracy score: ', accuracy_score(y_pred_nb_train, y_train))\n",
    "print('Test Accuracy score: ', accuracy_score(y_pred_nb_test, y_test))\n",
    "print()\n",
    "# checking F1\n",
    "print('Train F1 score: ', f1_score(y_pred_nb_train, y_train))\n",
    "print('Test F1 score: ', f1_score(y_pred_nb_test,y_test))\n",
    "print()\n",
    "# print confusion matrix\n",
    "print('Confusion matrix test set: \\n', confusion_matrix(y_test, y_pred_nb_test)/len(y_test))"
   ]
  },
  {
   "cell_type": "markdown",
   "metadata": {},
   "source": [
    "### Decision Tree"
   ]
  },
  {
   "cell_type": "code",
   "execution_count": null,
   "metadata": {},
   "outputs": [],
   "source": [
    "# INSATNTIATE DECISION TREE MODEL\n",
    "tree = DecisionTreeClassifier(class_weight = 'balanced',random_state = 333)\n",
    "\n",
    "#fit to training set\n",
    "tree.fit(X_train, y_train)\n",
    "\n",
    "#predict on train and test set\n",
    "y_pred_tree_train = tree.predict(X_train)\n",
    "y_pred_tree_test = tree.predict(X_test)\n",
    "\n",
    "\n",
    "# checking accuracy\n",
    "print('Train Accuracy score: ', accuracy_score(y_pred_tree_train, y_train))\n",
    "print('Test Accuracy score: ', accuracy_score(y_pred_tree_test, y_test))\n",
    "print()\n",
    "# checking F1\n",
    "print('Train F1 score: ', f1_score(y_pred_tree_train, y_train))\n",
    "print('Test F1 score: ', f1_score(y_pred_tree_test,y_test))\n",
    "print()\n",
    "# print confusion matrix\n",
    "print('Confusion matrix test set: \\n', confusion_matrix(y_test, y_pred_tree_test)/len(y_test))"
   ]
  },
  {
   "cell_type": "markdown",
   "metadata": {},
   "source": [
    "### Random Forest"
   ]
  },
  {
   "cell_type": "code",
   "execution_count": null,
   "metadata": {},
   "outputs": [],
   "source": [
    "#INSTANTIATE RANDOM FOREST MODEL\n",
    "rfc = RandomForestClassifier(random_state = 333, class_weight='balanced')\n",
    "\n",
    "#fit to training set\n",
    "rfc.fit(X_train, y_train)\n",
    "\n",
    "#predict on train and test set\n",
    "y_pred_rfc_train = rfc.predict(X_train)\n",
    "y_pred_rfc_test = rfc.predict(X_test)\n",
    "\n",
    "\n",
    "# checking accuracy\n",
    "print('Train Accuracy score: ', accuracy_score(y_pred_rfc_train, y_train))\n",
    "print('Test Accuracy score: ', accuracy_score(y_pred_rfc_test, y_test))\n",
    "print()\n",
    "# checking F1\n",
    "print('Train F1 score: ', f1_score(y_pred_rfc_train, y_train))\n",
    "print('Test F1 score: ', f1_score(y_pred_rfc_test,y_test))\n",
    "print()\n",
    "# print confusion matrix\n",
    "print('Confusion matrix test set: \\n', confusion_matrix(y_test, y_pred_rfc_test)/len(y_test))"
   ]
  },
  {
   "cell_type": "markdown",
   "metadata": {},
   "source": [
    "## BOW GridSearch"
   ]
  },
  {
   "cell_type": "markdown",
   "metadata": {},
   "source": [
    "We are looking to prioritze accuracy score in our model but want to take into account F1 if there is a negligible difference in accuracy. We will pick our two best performing models to try and improve upon, those being Logistic Regression and Naive Bayes. In the following steps we will tune our parameters and see if we can get improve our models"
   ]
  },
  {
   "cell_type": "markdown",
   "metadata": {},
   "source": [
    "### Logistic Grid"
   ]
  },
  {
   "cell_type": "code",
   "execution_count": null,
   "metadata": {},
   "outputs": [],
   "source": [
    "#SET PARAMATER GRID\n",
    "param_grid_log =  {'C': np.logspace(-4, 4, 20),\n",
    "                  'fit_intercept': [True, False],\n",
    "                  'max_iter': [1000,10_000]}\n",
    "grid_search_log = GridSearchCV(estimator = logreg, param_grid = param_grid_log ,cv = 7,scoring = 'accuracy')"
   ]
  },
  {
   "cell_type": "code",
   "execution_count": null,
   "metadata": {},
   "outputs": [],
   "source": [
    "grid_search_log.fit(X_train,y_train)\n",
    "log_params = grid_search_log.best_params_\n",
    "print(log_params)"
   ]
  },
  {
   "cell_type": "code",
   "execution_count": null,
   "metadata": {},
   "outputs": [],
   "source": [
    "logreg_grid = LogisticRegression(**log_params, class_weight='balanced', random_state = 333)\n",
    "\n",
    "logreg_grid.fit(X_train, y_train)\n",
    "\n",
    "y_pred_log_grid = logreg_grid.predict(X_test)\n",
    "\n",
    "# checking accuracy\n",
    "print('Test Accuracy score: ', metrics.accuracy_score(y_test, y_pred_log_grid))\n",
    "\n",
    "# checking F1\n",
    "print('Test F1 score: ', metrics.f1_score(y_test, y_pred_log_grid))"
   ]
  },
  {
   "cell_type": "markdown",
   "metadata": {},
   "source": [
    "### Naive Bayes Grid"
   ]
  },
  {
   "cell_type": "code",
   "execution_count": null,
   "metadata": {},
   "outputs": [],
   "source": [
    "#SET PARAMATER GRID\n",
    "param_grid_nb =   {'alpha': [1,0.5],\n",
    "                   'fit_prior': [True, False]}\n",
    "grid_search_nb = GridSearchCV(estimator = Naive, param_grid = param_grid_nb,cv = 7,scoring = 'accuracy')"
   ]
  },
  {
   "cell_type": "code",
   "execution_count": null,
   "metadata": {},
   "outputs": [],
   "source": [
    "grid_search_nb.fit(X_train,y_train)\n",
    "nb_params = grid_search_nb.best_params_\n",
    "print(nb_params)"
   ]
  },
  {
   "cell_type": "code",
   "execution_count": null,
   "metadata": {},
   "outputs": [],
   "source": [
    "nb_grid = MultinomialNB(**nb_params, class_weight='balanced', random_state = 333)\n",
    "\n",
    "nb_grid.fit(X_train, y_train)\n",
    "\n",
    "y_pred_nb_grid = nb_grid.predict(X_test)\n",
    "\n",
    "# checking accuracy\n",
    "print('Test Accuracy score: ', metrics.accuracy_score(y_test, y_pred_nb_grid))\n",
    "\n",
    "# checking F1\n",
    "print('Test F1 score: ', metrics.f1_score(y_test, y_pred_nb_grid))"
   ]
  },
  {
   "cell_type": "markdown",
   "metadata": {},
   "source": [
    "### Best BOW model with updated stopwords"
   ]
  },
  {
   "cell_type": "code",
   "execution_count": null,
   "metadata": {},
   "outputs": [],
   "source": [
    "# adding in most common words from Unigram analysis\n",
    "stopwords_new = stopwords_list + ['movie', 'film']"
   ]
  },
  {
   "cell_type": "code",
   "execution_count": null,
   "metadata": {},
   "outputs": [],
   "source": [
    "#train test split and vectorize our cleaned reviews using CountVectorizer and updated stopwords\n",
    "X_train, X_test, y_train, y_test, BOW_vect = split_vectorize(\n",
    "    df['cleaned_reviews'], df['sentiment'], CountVectorizer, stopwords_new)"
   ]
  },
  {
   "cell_type": "code",
   "execution_count": null,
   "metadata": {
    "scrolled": true
   },
   "outputs": [],
   "source": [
    "#INSTANTIATE LOGISTIC REGRESSION\n",
    "logreg = LogisticRegression(C = .01, random_state = 333)\n",
    "# can choose a regularization C = ? to penalize so it doesnt overfit\n",
    "\n",
    "#fit to training set\n",
    "logreg.fit(X_train, y_train)\n",
    "\n",
    "#predict on train and test set\n",
    "y_pred_log_train = logreg.predict(X_train)\n",
    "y_pred_log_test = logreg.predict(X_test)\n",
    "\n",
    "\n",
    "# checking accuracy\n",
    "print('Train Accuracy score: ', accuracy_score(y_pred_log_train, y_train))\n",
    "print('Test Accuracy score: ', accuracy_score(y_pred_log_test, y_test))\n",
    "print()\n",
    "# checking F1\n",
    "print('Train F1 score: ', f1_score(y_pred_log_train, y_train))\n",
    "print('Test F1 score: ', f1_score(y_pred_log_test,y_test))\n",
    "print()\n",
    "# print confusion matrix\n",
    "print('Confusion matrix test set: \\n', confusion_matrix(y_test, y_pred_log_test)/len(y_test))"
   ]
  },
  {
   "cell_type": "markdown",
   "metadata": {},
   "source": [
    "## TFIDF"
   ]
  },
  {
   "cell_type": "code",
   "execution_count": null,
   "metadata": {},
   "outputs": [],
   "source": [
    "#train test split and vecotrize our cleaned reviews using CountVectorizer\n",
    "X_train, X_test, y_train, y_test, TFIDF_vect = split_vectorize(\n",
    "    df['cleaned_reviews'], df['sentiment'], TfidfVectorizer, stopwords_list)"
   ]
  },
  {
   "cell_type": "code",
   "execution_count": null,
   "metadata": {},
   "outputs": [],
   "source": [
    "pickle_out = open(\"TFIDF_vect.pickle\",\"wb\")\n",
    "pickle.dump(TFIDF_vect, pickle_out)\n",
    "pickle_out.close()"
   ]
  },
  {
   "cell_type": "markdown",
   "metadata": {},
   "source": [
    "### Logistic Regression"
   ]
  },
  {
   "cell_type": "code",
   "execution_count": null,
   "metadata": {},
   "outputs": [],
   "source": [
    "#INSTANTIATE LOGISTIC REGRESSION\n",
    "logreg = LogisticRegression(C = .01, random_state = 333)\n",
    "# can choose a regularization C = ? to penalize so it doesnt overfit\n",
    "\n",
    "#fit to training set\n",
    "logreg.fit(X_train, y_train)\n",
    "\n",
    "#predict on train and test set\n",
    "y_pred_log_train = logreg.predict(X_train)\n",
    "y_pred_log_test = logreg.predict(X_test)\n",
    "\n",
    "\n",
    "# checking accuracy\n",
    "print('Train Accuracy score: ', accuracy_score(y_pred_log_train, y_train))\n",
    "print('Test Accuracy score: ', accuracy_score(y_pred_log_test, y_test))\n",
    "print()\n",
    "# checking F1\n",
    "print('Train F1 score: ', f1_score(y_pred_log_train, y_train))\n",
    "print('Test F1 score: ', f1_score(y_pred_log_test,y_test))\n",
    "print()\n",
    "# print confusion matrix\n",
    "print('Confusion matrix test set: \\n', confusion_matrix(y_test, y_pred_log_test)/len(y_test))"
   ]
  },
  {
   "cell_type": "markdown",
   "metadata": {},
   "source": [
    "### Naive Bayes"
   ]
  },
  {
   "cell_type": "code",
   "execution_count": null,
   "metadata": {},
   "outputs": [],
   "source": [
    "#INSTANTIATE NB Classifier\n",
    "Naive = MultinomialNB(alpha=0.1, fit_prior= True)\n",
    "\n",
    "#fit to training set\n",
    "Naive.fit(X_train,y_train)\n",
    "\n",
    "#predict on train and test set\n",
    "y_pred_nb_train = Naive.predict(X_train)\n",
    "y_pred_nb_test = Naive.predict(X_test)\n",
    "\n",
    "\n",
    "# checking accuracy\n",
    "print('Train Accuracy score: ', accuracy_score(y_pred_nb_train, y_train))\n",
    "print('Test Accuracy score: ', accuracy_score(y_pred_nb_test, y_test))\n",
    "print()\n",
    "# checking F1\n",
    "print('Train F1 score: ', f1_score(y_pred_nb_train, y_train))\n",
    "print('Test F1 score: ', f1_score(y_pred_nb_test,y_test))\n",
    "print()\n",
    "# print confusion matrix\n",
    "print('Confusion matrix test set: \\n', confusion_matrix(y_test, y_pred_nb_test)/len(y_test))"
   ]
  },
  {
   "cell_type": "code",
   "execution_count": null,
   "metadata": {},
   "outputs": [],
   "source": [
    "pickle_out = open(\"nb_mod.pickle\",\"wb\")\n",
    "pickle.dump(Naive, pickle_out)\n",
    "pickle_out.close()"
   ]
  },
  {
   "cell_type": "markdown",
   "metadata": {},
   "source": [
    "### Decision Tree"
   ]
  },
  {
   "cell_type": "code",
   "execution_count": null,
   "metadata": {},
   "outputs": [],
   "source": [
    "# INSATNTIATE DECISION TREE MODEL\n",
    "tree = DecisionTreeClassifier(class_weight = 'balanced',random_state = 333)\n",
    "\n",
    "#fit to training set\n",
    "tree.fit(X_train, y_train)\n",
    "\n",
    "#predict on train and test set\n",
    "y_pred_tree_train = tree.predict(X_train)\n",
    "y_pred_tree_test = tree.predict(X_test)\n",
    "\n",
    "\n",
    "# checking accuracy\n",
    "print('Train Accuracy score: ', accuracy_score(y_pred_tree_train, y_train))\n",
    "print('Test Accuracy score: ', accuracy_score(y_pred_tree_test, y_test))\n",
    "print()\n",
    "# checking F1\n",
    "print('Train F1 score: ', f1_score(y_pred_tree_train, y_train))\n",
    "print('Test F1 score: ', f1_score(y_pred_tree_test,y_test))\n",
    "print()\n",
    "# print confusion matrix\n",
    "print('Confusion matrix test set: \\n', confusion_matrix(y_test, y_pred_tree_test)/len(y_test))"
   ]
  },
  {
   "cell_type": "markdown",
   "metadata": {},
   "source": [
    "### Random Forest"
   ]
  },
  {
   "cell_type": "code",
   "execution_count": null,
   "metadata": {},
   "outputs": [],
   "source": [
    "#INSTANTIATE RANDOM FOREST MODEL\n",
    "rfc = RandomForestClassifier(random_state = 333, class_weight='balanced')\n",
    "\n",
    "#fit to training set\n",
    "rfc.fit(X_train, y_train)\n",
    "\n",
    "#predict on train and test set\n",
    "y_pred_rfc_train = rfc.predict(X_train)\n",
    "y_pred_rfc_test = rfc.predict(X_test)\n",
    "\n",
    "\n",
    "# checking accuracy\n",
    "print('Train Accuracy score: ', accuracy_score(y_pred_rfc_train, y_train))\n",
    "print('Test Accuracy score: ', accuracy_score(y_pred_rfc_test, y_test))\n",
    "print()\n",
    "# checking F1\n",
    "print('Train F1 score: ', f1_score(y_pred_rfc_train, y_train))\n",
    "print('Test F1 score: ', f1_score(y_pred_rfc_test,y_test))\n",
    "print()\n",
    "# print confusion matrix\n",
    "print('Confusion matrix test set: \\n', confusion_matrix(y_test, y_pred_rfc_test)/len(y_test))"
   ]
  },
  {
   "cell_type": "markdown",
   "metadata": {},
   "source": [
    "## GridSearch"
   ]
  },
  {
   "cell_type": "markdown",
   "metadata": {},
   "source": [
    "### Logistic Grid"
   ]
  },
  {
   "cell_type": "code",
   "execution_count": null,
   "metadata": {},
   "outputs": [],
   "source": [
    "#SET PARAMATER GRID\n",
    "param_grid_log =  {'C': np.logspace(-4, 4, 20),\n",
    "                  'fit_intercept': [True, False],\n",
    "                  'max_iter': [1000,10_000]}\n",
    "grid_search_log = GridSearchCV(estimator = logreg, param_grid = param_grid_log ,cv = 7,scoring = 'accuracy')"
   ]
  },
  {
   "cell_type": "code",
   "execution_count": null,
   "metadata": {},
   "outputs": [],
   "source": [
    "#train test split and vectorize our cleaned reviews using updated stopwords\n",
    "X_train, X_test, y_train, y_test, TFIDF_vect = split_vectorize(\n",
    "    df['cleaned_reviews'], df['sentiment'], TfidfVectorizer, stopwords_list)"
   ]
  },
  {
   "cell_type": "code",
   "execution_count": null,
   "metadata": {},
   "outputs": [],
   "source": [
    "grid_search_log.fit(X_train,y_train)\n",
    "log_params = grid_search_log.best_params_\n",
    "print(log_params)"
   ]
  },
  {
   "cell_type": "code",
   "execution_count": null,
   "metadata": {},
   "outputs": [],
   "source": [
    "logreg_grid = LogisticRegression(**log_params, class_weight='balanced', random_state = 333)\n",
    "\n",
    "logreg_grid.fit(X_train, y_train)\n",
    "\n",
    "y_pred_log_grid = logreg_grid.predict(X_test)\n",
    "\n",
    "# checking accuracy\n",
    "print('Test Accuracy score: ', metrics.accuracy_score(y_test, y_pred_log_grid))\n",
    "\n",
    "# checking F1\n",
    "print('Test F1 score: ', metrics.f1_score(y_test, y_pred_log_grid))"
   ]
  },
  {
   "cell_type": "markdown",
   "metadata": {},
   "source": [
    "### Naive Bayes Grid"
   ]
  },
  {
   "cell_type": "code",
   "execution_count": null,
   "metadata": {},
   "outputs": [],
   "source": [
    "#SET PARAMATER GRID\n",
    "param_grid_nb =   {'alpha': [1,0.5],\n",
    "                   'fit_prior': [True, False]}\n",
    "grid_search_nb = GridSearchCV(estimator = Naive, param_grid = param_grid_nb,cv = 7,scoring = 'accuracy')"
   ]
  },
  {
   "cell_type": "code",
   "execution_count": null,
   "metadata": {},
   "outputs": [],
   "source": [
    "#train test split and vectorize our cleaned reviews using updated stopwords\n",
    "X_train, X_test, y_train, y_test, TFIDF_vect = split_vectorize(\n",
    "    df['cleaned_reviews'], df['sentiment'], TfidfVectorizer, stopwords_list)"
   ]
  },
  {
   "cell_type": "code",
   "execution_count": null,
   "metadata": {},
   "outputs": [],
   "source": [
    "grid_search_nb.fit(X_train,y_train)\n",
    "nb_params = grid_search_nb.best_params_\n",
    "print(nb_params)"
   ]
  },
  {
   "cell_type": "code",
   "execution_count": null,
   "metadata": {},
   "outputs": [],
   "source": [
    "nb_grid = MultinomialNB(**nb_params, class_weight='balanced', random_state = 333)\n",
    "\n",
    "nb_grid.fit(X_train, y_train)\n",
    "\n",
    "y_pred_nb_grid = nb_grid.predict(X_test)\n",
    "\n",
    "# checking accuracy\n",
    "print('Test Accuracy score: ', metrics.accuracy_score(y_test, y_pred_nb_grid))\n",
    "\n",
    "# checking F1\n",
    "print('Test F1 score: ', metrics.f1_score(y_test, y_pred_nb_grid))"
   ]
  },
  {
   "cell_type": "markdown",
   "metadata": {},
   "source": [
    "## Best TFIDF Model with updated stopwords"
   ]
  },
  {
   "cell_type": "code",
   "execution_count": null,
   "metadata": {},
   "outputs": [],
   "source": [
    "#train test split and vectorize our cleaned reviews using updated stopwords\n",
    "X_train, X_test, y_train, y_test, TFIDF_vect = split_vectorize(\n",
    "    df['cleaned_reviews'], df['sentiment'], TfidfVectorizer, stopwords_new)"
   ]
  },
  {
   "cell_type": "code",
   "execution_count": null,
   "metadata": {},
   "outputs": [],
   "source": [
    "#INSTANTIATE NB Classifier\n",
    "Naive = MultinomialNB(alpha=0.1, fit_prior= True)\n",
    "\n",
    "#fit to training set\n",
    "Naive.fit(X_train,y_train)\n",
    "\n",
    "#predict on train and test set\n",
    "y_pred_nb_train = Naive.predict(X_train)\n",
    "y_pred_nb_test = Naive.predict(X_test)\n",
    "\n",
    "\n",
    "# checking accuracy\n",
    "print('Train Accuracy score: ', accuracy_score(y_pred_nb_train, y_train))\n",
    "print('Test Accuracy score: ', accuracy_score(y_pred_nb_test, y_test))\n",
    "print()\n",
    "# checking F1\n",
    "print('Train F1 score: ', f1_score(y_pred_nb_train, y_train))\n",
    "print('Test F1 score: ', f1_score(y_pred_nb_test,y_test))\n",
    "print()\n",
    "# print confusion matrix\n",
    "print('Confusion matrix test set: \\n', confusion_matrix(y_test, y_pred_nb_test)/len(y_test))"
   ]
  },
  {
   "cell_type": "code",
   "execution_count": null,
   "metadata": {},
   "outputs": [],
   "source": []
  }
 ],
 "metadata": {
  "kernelspec": {
   "display_name": "Python 3",
   "language": "python",
   "name": "python3"
  },
  "language_info": {
   "codemirror_mode": {
    "name": "ipython",
    "version": 3
   },
   "file_extension": ".py",
   "mimetype": "text/x-python",
   "name": "python",
   "nbconvert_exporter": "python",
   "pygments_lexer": "ipython3",
   "version": "3.7.6"
  }
 },
 "nbformat": 4,
 "nbformat_minor": 4
}
