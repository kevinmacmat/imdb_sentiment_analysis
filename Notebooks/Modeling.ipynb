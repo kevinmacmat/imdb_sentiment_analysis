{
 "cells": [
  {
   "cell_type": "code",
   "execution_count": 1,
   "metadata": {},
   "outputs": [],
   "source": [
    "from sklearn.feature_extraction.text import CountVectorizer, TfidfVectorizer\n",
    "from nltk import word_tokenize\n",
    "from sklearn.tree import DecisionTreeClassifier\n",
    "from sklearn.ensemble import RandomForestClassifier\n",
    "from sklearn.linear_model import LogisticRegression\n",
    "from sklearn.naive_bayes import MultinomialNB\n",
    "from sklearn.model_selection import train_test_split\n",
    "from sklearn.metrics import accuracy_score, confusion_matrix, f1_score\n",
    "import pandas as pd\n",
    "import numpy as np\n",
    "import matplotlib.pyplot as plt\n",
    "from nltk.corpus import stopwords\n",
    "import string\n",
    "import spacy\n",
    "import pickle\n",
    "import itertools\n",
    "import seaborn as sns"
   ]
  },
  {
   "cell_type": "code",
   "execution_count": 2,
   "metadata": {},
   "outputs": [],
   "source": [
    "df = pd.read_csv('/Users/jason/Flatiron/MOD4/cleaned_reviews_dataframe')"
   ]
  },
  {
   "cell_type": "code",
   "execution_count": 3,
   "metadata": {
    "scrolled": false
   },
   "outputs": [
    {
     "data": {
      "text/html": [
       "<div>\n",
       "<style scoped>\n",
       "    .dataframe tbody tr th:only-of-type {\n",
       "        vertical-align: middle;\n",
       "    }\n",
       "\n",
       "    .dataframe tbody tr th {\n",
       "        vertical-align: top;\n",
       "    }\n",
       "\n",
       "    .dataframe thead th {\n",
       "        text-align: right;\n",
       "    }\n",
       "</style>\n",
       "<table border=\"1\" class=\"dataframe\">\n",
       "  <thead>\n",
       "    <tr style=\"text-align: right;\">\n",
       "      <th></th>\n",
       "      <th>reviews</th>\n",
       "      <th>sentiment</th>\n",
       "      <th>cleaned_reviews</th>\n",
       "    </tr>\n",
       "  </thead>\n",
       "  <tbody>\n",
       "    <tr>\n",
       "      <th>0</th>\n",
       "      <td>Working with one of the best Shakespeare sourc...</td>\n",
       "      <td>0</td>\n",
       "      <td>work with one of the good shakespeare source t...</td>\n",
       "    </tr>\n",
       "    <tr>\n",
       "      <th>1</th>\n",
       "      <td>Well...tremors I, the original started off in ...</td>\n",
       "      <td>0</td>\n",
       "      <td>well tremor i the original start off in and i ...</td>\n",
       "    </tr>\n",
       "    <tr>\n",
       "      <th>2</th>\n",
       "      <td>Ouch! This one was a bit painful to sit throug...</td>\n",
       "      <td>0</td>\n",
       "      <td>ouch this one be a bit painful to sit through ...</td>\n",
       "    </tr>\n",
       "    <tr>\n",
       "      <th>3</th>\n",
       "      <td>I've seen some crappy movies in my life, but t...</td>\n",
       "      <td>0</td>\n",
       "      <td>-PRON- have see some crappy movie in -PRON- li...</td>\n",
       "    </tr>\n",
       "    <tr>\n",
       "      <th>4</th>\n",
       "      <td>\"Carriers\" follows the exploits of two guys an...</td>\n",
       "      <td>0</td>\n",
       "      <td>carrier follow the exploit of two guy and tw...</td>\n",
       "    </tr>\n",
       "  </tbody>\n",
       "</table>\n",
       "</div>"
      ],
      "text/plain": [
       "                                             reviews  sentiment  \\\n",
       "0  Working with one of the best Shakespeare sourc...          0   \n",
       "1  Well...tremors I, the original started off in ...          0   \n",
       "2  Ouch! This one was a bit painful to sit throug...          0   \n",
       "3  I've seen some crappy movies in my life, but t...          0   \n",
       "4  \"Carriers\" follows the exploits of two guys an...          0   \n",
       "\n",
       "                                     cleaned_reviews  \n",
       "0  work with one of the good shakespeare source t...  \n",
       "1  well tremor i the original start off in and i ...  \n",
       "2  ouch this one be a bit painful to sit through ...  \n",
       "3  -PRON- have see some crappy movie in -PRON- li...  \n",
       "4    carrier follow the exploit of two guy and tw...  "
      ]
     },
     "execution_count": 3,
     "metadata": {},
     "output_type": "execute_result"
    }
   ],
   "source": [
    "df.head()"
   ]
  },
  {
   "cell_type": "markdown",
   "metadata": {},
   "source": [
    "### StopWords"
   ]
  },
  {
   "cell_type": "code",
   "execution_count": 4,
   "metadata": {},
   "outputs": [
    {
     "name": "stdout",
     "output_type": "stream",
     "text": [
      "['i', 'me', 'my', 'myself', 'we', 'our', 'ours', 'ourselves', 'you', \"you're\", \"you've\", \"you'll\", \"you'd\", 'your', 'yours', 'yourself', 'yourselves', 'he', 'him', 'his', 'himself', 'she', \"she's\", 'her', 'hers', 'herself', 'it', \"it's\", 'its', 'itself', 'they', 'them', 'their', 'theirs', 'themselves', 'what', 'which', 'who', 'whom', 'this', 'that', \"that'll\", 'these', 'those', 'am', 'is', 'are', 'was', 'were', 'be', 'been', 'being', 'have', 'has', 'had', 'having', 'do', 'does', 'did', 'doing', 'a', 'an', 'the', 'and', 'but', 'if', 'or', 'because', 'as', 'until', 'while', 'of', 'at', 'by', 'for', 'with', 'about', 'against', 'between', 'into', 'through', 'during', 'before', 'after', 'above', 'below', 'to', 'from', 'up', 'down', 'in', 'out', 'on', 'off', 'over', 'under', 'again', 'further', 'then', 'once', 'here', 'there', 'when', 'where', 'why', 'how', 'all', 'any', 'both', 'each', 'few', 'more', 'most', 'other', 'some', 'such', 'no', 'nor', 'not', 'only', 'own', 'same', 'so', 'than', 'too', 'very', 's', 't', 'can', 'will', 'just', 'don', \"don't\", 'should', \"should've\", 'now', 'd', 'll', 'm', 'o', 're', 've', 'y', 'ain', 'aren', \"aren't\", 'couldn', \"couldn't\", 'didn', \"didn't\", 'doesn', \"doesn't\", 'hadn', \"hadn't\", 'hasn', \"hasn't\", 'haven', \"haven't\", 'isn', \"isn't\", 'ma', 'mightn', \"mightn't\", 'mustn', \"mustn't\", 'needn', \"needn't\", 'shan', \"shan't\", 'shouldn', \"shouldn't\", 'wasn', \"wasn't\", 'weren', \"weren't\", 'won', \"won't\", 'wouldn', \"wouldn't\", 'pron', '-PRON-']\n"
     ]
    }
   ],
   "source": [
    "# create stopwords and update as spacy lemmatizer converts all pronouns (i, we, us, etc..) to -PRON-\n",
    "stopwords_list = stopwords.words('english')+['pron', '-PRON-']\n",
    "print(stopwords_list)"
   ]
  },
  {
   "cell_type": "markdown",
   "metadata": {},
   "source": [
    "# Modeling"
   ]
  },
  {
   "cell_type": "code",
   "execution_count": 5,
   "metadata": {},
   "outputs": [],
   "source": [
    "#function to train test split our cleaned reviews and vectorize using specific stopwords\n",
    "def split_vectorize(predictor, target, vectorizer, stopwords):\n",
    "    #TRAIN/TEST SPLIT\n",
    "    X_train, X_test, y_train, y_test = train_test_split(predictor, target, random_state=333)\n",
    "    \n",
    "    # vectorize our predictor column, n_gram range was chosen as we found having groups of words\n",
    "    # increased our score, min_df of 7 got rid of many nonsensical tokens such as 'zzzhf' and kept\n",
    "    # dataframe at a manageable size (around 50,000 columns)\n",
    "    vect = vectorizer(ngram_range=(1, 3), min_df = 7, stop_words=stopwords)\n",
    "    \n",
    "    #fit/transform train set and transform tet set\n",
    "    X_train=vect.fit_transform(X_train)\n",
    "    X_test=vect.transform(X_test)\n",
    "    \n",
    "    # make into a dataframe with the ngrams as column names\n",
    "    X_train = pd.DataFrame(X_train.toarray(), columns=vect.get_feature_names())\n",
    "    X_test = pd.DataFrame(X_test.toarray(), columns=vect.get_feature_names())\n",
    "    \n",
    "    #return the \n",
    "    return X_train, X_test, y_train, y_test, vectorizer    "
   ]
  },
  {
   "cell_type": "markdown",
   "metadata": {},
   "source": [
    "## Baseline"
   ]
  },
  {
   "cell_type": "markdown",
   "metadata": {},
   "source": [
    "From our eda we have shown that our classes are completely balanced meaning we can either choose negative or positive for all reviews and we would be right half of the time for this dataset. That of course will not work well when we look at new data which could have a class imbalance. We aim to produce at model that will perform well on our training data and that will evaluate just as well on our holdout set."
   ]
  },
  {
   "cell_type": "markdown",
   "metadata": {},
   "source": [
    "## Bag Of Words"
   ]
  },
  {
   "cell_type": "code",
   "execution_count": 6,
   "metadata": {},
   "outputs": [],
   "source": [
    "#train test split and vectorize our cleaned reviews using CountVectorizer\n",
    "X_train, X_test, y_train, y_test, BOW_vect = split_vectorize(\n",
    "    df['cleaned_reviews'], df['sentiment'], CountVectorizer, stopwords_list)"
   ]
  },
  {
   "cell_type": "code",
   "execution_count": 7,
   "metadata": {},
   "outputs": [],
   "source": [
    "#pickle our BOW vectorizer for use with holdout set\n",
    "pickle_out = open(\"BOW_vect.pickle\",\"wb\")\n",
    "pickle.dump(BOW_vect, pickle_out)\n",
    "pickle_out.close()"
   ]
  },
  {
   "cell_type": "markdown",
   "metadata": {},
   "source": [
    "### Logistic Regression"
   ]
  },
  {
   "cell_type": "code",
   "execution_count": 8,
   "metadata": {},
   "outputs": [
    {
     "name": "stdout",
     "output_type": "stream",
     "text": [
      "Train Accuracy score:  0.92576\n",
      "Test Accuracy score:  0.8816\n",
      "\n",
      "Train F1 score:  0.9264969901784771\n",
      "Test F1 score:  0.8835012594458439\n",
      "\n",
      "Confusion matrix test set: \n",
      " [[0.43264 0.06608]\n",
      " [0.05232 0.44896]]\n"
     ]
    }
   ],
   "source": [
    "#INSTANTIATE LOGISTIC REGRESSION\n",
    "logreg = LogisticRegression(C = .009, random_state = 333)\n",
    "\n",
    "\n",
    "#fit to training set\n",
    "logreg.fit(X_train, y_train)\n",
    "\n",
    "#predict on train and test set\n",
    "y_pred_log_train = logreg.predict(X_train)\n",
    "y_pred_log_test = logreg.predict(X_test)\n",
    "\n",
    "\n",
    "# checking accuracy\n",
    "print('Train Accuracy score: ', accuracy_score(y_pred_log_train, y_train))\n",
    "print('Test Accuracy score: ', accuracy_score(y_pred_log_test, y_test))\n",
    "print()\n",
    "# checking F1\n",
    "print('Train F1 score: ', f1_score(y_pred_log_train, y_train))\n",
    "print('Test F1 score: ', f1_score(y_pred_log_test,y_test))\n",
    "print()\n",
    "# print confusion matrix\n",
    "print('Confusion matrix test set: \\n', confusion_matrix(y_test, y_pred_log_test)/len(y_test))"
   ]
  },
  {
   "cell_type": "code",
   "execution_count": 42,
   "metadata": {},
   "outputs": [],
   "source": [
    "# (spoiler) pickling our best model with BOW vectorization\n",
    "pickle_out = open(\"log_reg_mod.pickle\",\"wb\")\n",
    "pickle.dump(logreg, pickle_out)\n",
    "pickle_out.close()"
   ]
  },
  {
   "cell_type": "markdown",
   "metadata": {},
   "source": [
    "### Naive Bayes"
   ]
  },
  {
   "cell_type": "code",
   "execution_count": 43,
   "metadata": {},
   "outputs": [
    {
     "name": "stdout",
     "output_type": "stream",
     "text": [
      "Train Accuracy score:  0.92544\n",
      "Test Accuracy score:  0.87376\n",
      "\n",
      "Train F1 score:  0.9254479522184301\n",
      "Test F1 score:  0.8743030109925124\n",
      "\n",
      "Confusion matrix test set: \n",
      " [[0.43472 0.064  ]\n",
      " [0.06224 0.43904]]\n"
     ]
    }
   ],
   "source": [
    "#INSTANTIATE NB Classifier\n",
    "Naive = MultinomialNB(alpha=.1, fit_prior= True)\n",
    "\n",
    "#fit to training set\n",
    "Naive.fit(X_train,y_train)\n",
    "\n",
    "#predict on train and test set\n",
    "y_pred_nb_train = Naive.predict(X_train)\n",
    "y_pred_nb_test = Naive.predict(X_test)\n",
    "\n",
    "\n",
    "# checking accuracy\n",
    "print('Train Accuracy score: ', accuracy_score(y_pred_nb_train, y_train))\n",
    "print('Test Accuracy score: ', accuracy_score(y_pred_nb_test, y_test))\n",
    "print()\n",
    "# checking F1\n",
    "print('Train F1 score: ', f1_score(y_pred_nb_train, y_train))\n",
    "print('Test F1 score: ', f1_score(y_pred_nb_test,y_test))\n",
    "print()\n",
    "# print confusion matrix\n",
    "print('Confusion matrix test set: \\n', confusion_matrix(y_test, y_pred_nb_test)/len(y_test))"
   ]
  },
  {
   "cell_type": "markdown",
   "metadata": {},
   "source": [
    "### Decision Tree"
   ]
  },
  {
   "cell_type": "code",
   "execution_count": 11,
   "metadata": {},
   "outputs": [
    {
     "name": "stdout",
     "output_type": "stream",
     "text": [
      "Train Accuracy score:  1.0\n",
      "Test Accuracy score:  0.73712\n",
      "\n",
      "Train F1 score:  1.0\n",
      "Test F1 score:  0.7358945507153191\n",
      "\n",
      "Confusion matrix test set: \n",
      " [[0.37088 0.12784]\n",
      " [0.13504 0.36624]]\n"
     ]
    }
   ],
   "source": [
    "# INSATNTIATE DECISION TREE MODEL\n",
    "tree = DecisionTreeClassifier(class_weight = 'balanced',random_state = 333)\n",
    "\n",
    "#fit to training set\n",
    "tree.fit(X_train, y_train)\n",
    "\n",
    "#predict on train and test set\n",
    "y_pred_tree_train = tree.predict(X_train)\n",
    "y_pred_tree_test = tree.predict(X_test)\n",
    "\n",
    "\n",
    "# checking accuracy\n",
    "print('Train Accuracy score: ', accuracy_score(y_pred_tree_train, y_train))\n",
    "print('Test Accuracy score: ', accuracy_score(y_pred_tree_test, y_test))\n",
    "print()\n",
    "# checking F1\n",
    "print('Train F1 score: ', f1_score(y_pred_tree_train, y_train))\n",
    "print('Test F1 score: ', f1_score(y_pred_tree_test,y_test))\n",
    "print()\n",
    "# print confusion matrix\n",
    "print('Confusion matrix test set: \\n', confusion_matrix(y_test, y_pred_tree_test)/len(y_test))"
   ]
  },
  {
   "cell_type": "markdown",
   "metadata": {},
   "source": [
    "### Random Forest"
   ]
  },
  {
   "cell_type": "code",
   "execution_count": 48,
   "metadata": {},
   "outputs": [
    {
     "name": "stdout",
     "output_type": "stream",
     "text": [
      "Train Accuracy score:  1.0\n",
      "Test Accuracy score:  0.8584\n",
      "\n",
      "Train F1 score:  1.0\n",
      "Test F1 score:  0.8607833883907503\n",
      "\n",
      "Confusion matrix test set: \n",
      " [[0.42064 0.07808]\n",
      " [0.06352 0.43776]]\n"
     ]
    }
   ],
   "source": [
    "#INSTANTIATE RANDOM FOREST MODEL\n",
    "rfc = RandomForestClassifier(random_state = 333, class_weight='balanced')\n",
    "\n",
    "#fit to training set\n",
    "rfc.fit(X_train, y_train)\n",
    "\n",
    "#predict on train and test set\n",
    "y_pred_rfc_train = rfc.predict(X_train)\n",
    "y_pred_rfc_test = rfc.predict(X_test)\n",
    "\n",
    "\n",
    "# checking accuracy\n",
    "print('Train Accuracy score: ', accuracy_score(y_pred_rfc_train, y_train))\n",
    "print('Test Accuracy score: ', accuracy_score(y_pred_rfc_test, y_test))\n",
    "print()\n",
    "# checking F1\n",
    "print('Train F1 score: ', f1_score(y_pred_rfc_train, y_train))\n",
    "print('Test F1 score: ', f1_score(y_pred_rfc_test,y_test))\n",
    "print()\n",
    "# print confusion matrix\n",
    "print('Confusion matrix test set: \\n', confusion_matrix(y_test, y_pred_rfc_test)/len(y_test))"
   ]
  },
  {
   "cell_type": "markdown",
   "metadata": {},
   "source": [
    "### Best BOW model with updated stopwords"
   ]
  },
  {
   "cell_type": "code",
   "execution_count": 27,
   "metadata": {},
   "outputs": [],
   "source": [
    "# adding in most common words from Unigram analysis\n",
    "stopwords_new = stopwords_list + ['movie', 'film']"
   ]
  },
  {
   "cell_type": "code",
   "execution_count": 28,
   "metadata": {},
   "outputs": [],
   "source": [
    "#train test split and vectorize our cleaned reviews using CountVectorizer and updated stopwords\n",
    "X_train, X_test, y_train, y_test, BOW_vect = split_vectorize(\n",
    "    df['cleaned_reviews'], df['sentiment'], CountVectorizer, stopwords_new)"
   ]
  },
  {
   "cell_type": "code",
   "execution_count": 15,
   "metadata": {
    "scrolled": true
   },
   "outputs": [
    {
     "name": "stdout",
     "output_type": "stream",
     "text": [
      "Train Accuracy score:  0.9269866666666666\n",
      "Test Accuracy score:  0.88176\n",
      "\n",
      "Train F1 score:  0.9276388815476505\n",
      "Test F1 score:  0.8835303388494878\n",
      "\n",
      "Confusion matrix test set: \n",
      " [[0.43328 0.06544]\n",
      " [0.0528  0.44848]]\n"
     ]
    }
   ],
   "source": [
    "#INSTANTIATE LOGISTIC REGRESSION\n",
    "logreg_stop = LogisticRegression(C = .01, random_state = 333)\n",
    "# can choose a regularization C = ? to penalize so it doesnt overfit\n",
    "\n",
    "#fit to training set\n",
    "logreg_stop.fit(X_train, y_train)\n",
    "\n",
    "#predict on train and test set\n",
    "y_pred_log_train = logreg_stop.predict(X_train)\n",
    "y_pred_log_test = logreg_stop.predict(X_test)\n",
    "\n",
    "\n",
    "# checking accuracy\n",
    "print('Train Accuracy score: ', accuracy_score(y_pred_log_train, y_train))\n",
    "print('Test Accuracy score: ', accuracy_score(y_pred_log_test, y_test))\n",
    "print()\n",
    "# checking F1\n",
    "print('Train F1 score: ', f1_score(y_pred_log_train, y_train))\n",
    "print('Test F1 score: ', f1_score(y_pred_log_test,y_test))\n",
    "print()\n",
    "# print confusion matrix\n",
    "print('Confusion matrix test set: \\n', confusion_matrix(y_test, y_pred_log_test)/len(y_test))"
   ]
  },
  {
   "cell_type": "markdown",
   "metadata": {},
   "source": [
    "After including the most common words that show up in each type of review we see that it does not really have an effect on our scores. We would choose to leave them in as the inclusion of them can give us a better sense of the context of each feature."
   ]
  },
  {
   "cell_type": "markdown",
   "metadata": {},
   "source": [
    "### Feature Importance (best model)"
   ]
  },
  {
   "cell_type": "code",
   "execution_count": 9,
   "metadata": {},
   "outputs": [],
   "source": [
    "#get coefficient values for features and create dict with feature and importance\n",
    "dictionary_logreg = dict(zip(list(X_train.columns), list(logreg.coef_[0])))\n",
    "\n",
    "#sort dictionary by most important features\n",
    "dictionary_logreg = {k: v for k, v in sorted(dictionary_logreg.items(), key=lambda item: abs(item[1]))}\n",
    "\n",
    "# make dictionary a list with most important features at top\n",
    "importance = dictionary_logreg.items()\n",
    "impt_features = list(importance)[::-1]"
   ]
  },
  {
   "cell_type": "code",
   "execution_count": 11,
   "metadata": {},
   "outputs": [],
   "source": [
    "# Top ten most important features for logistic regression model\n",
    "log_features = pd.DataFrame(impt_features[:10], columns = ['Feature', 'Importance'])"
   ]
  },
  {
   "cell_type": "code",
   "execution_count": 12,
   "metadata": {},
   "outputs": [
    {
     "data": {
      "image/png": "[encoded data removed]",
      "text/plain": [
       "<Figure size 864x576 with 1 Axes>"
      ]
     },
     "metadata": {
      "needs_background": "light"
     },
     "output_type": "display_data"
    }
   ],
   "source": [
    "plt.figure(figsize=(12,8))\n",
    "sns.barplot(log_features['Feature'], log_features['Importance'])\n",
    "plt.xticks(fontsize=16)\n",
    "plt.xticks(rotation=45)\n",
    "plt.title('Feature Importance (BOW)')\n",
    "plt.xlabel('Features')\n",
    "plt.ylabel('Importance')\n",
    "sns.set_style()\n",
    "plt.show()"
   ]
  },
  {
   "cell_type": "markdown",
   "metadata": {},
   "source": [
    "From our most important features we can see that many of these key words are more descriptive and not general like \"good\", with the only exception being the word \"bad\". "
   ]
  },
  {
   "cell_type": "markdown",
   "metadata": {},
   "source": [
    "## TFIDF"
   ]
  },
  {
   "cell_type": "code",
   "execution_count": 20,
   "metadata": {},
   "outputs": [],
   "source": [
    "#train test split and vecotrize our cleaned reviews using CountVectorizer\n",
    "X_train, X_test, y_train, y_test, TFIDF_vect = split_vectorize(\n",
    "    df['cleaned_reviews'], df['sentiment'], TfidfVectorizer, stopwords_list)"
   ]
  },
  {
   "cell_type": "code",
   "execution_count": 21,
   "metadata": {},
   "outputs": [],
   "source": [
    "# Pickling TFIDF Vectorizer\n",
    "pickle_out = open(\"TFIDF_vect.pickle\",\"wb\")\n",
    "pickle.dump(TFIDF_vect, pickle_out)\n",
    "pickle_out.close()"
   ]
  },
  {
   "cell_type": "markdown",
   "metadata": {},
   "source": [
    "### Logistic Regression"
   ]
  },
  {
   "cell_type": "code",
   "execution_count": 22,
   "metadata": {},
   "outputs": [
    {
     "name": "stdout",
     "output_type": "stream",
     "text": [
      "Train Accuracy score:  0.8417066666666667\n",
      "Test Accuracy score:  0.83392\n",
      "\n",
      "Train F1 score:  0.8484012667279599\n",
      "Test F1 score:  0.8414298808432631\n",
      "\n",
      "Confusion matrix test set: \n",
      " [[0.39328 0.10544]\n",
      " [0.06064 0.44064]]\n"
     ]
    }
   ],
   "source": [
    "#INSTANTIATE LOGISTIC REGRESSION\n",
    "logreg = LogisticRegression(C = .01, random_state = 333)\n",
    "\n",
    "#fit to training set\n",
    "logreg.fit(X_train, y_train)\n",
    "\n",
    "#predict on train and test set\n",
    "y_pred_log_train = logreg.predict(X_train)\n",
    "y_pred_log_test = logreg.predict(X_test)\n",
    "\n",
    "\n",
    "# checking accuracy\n",
    "print('Train Accuracy score: ', accuracy_score(y_pred_log_train, y_train))\n",
    "print('Test Accuracy score: ', accuracy_score(y_pred_log_test, y_test))\n",
    "print()\n",
    "# checking F1\n",
    "print('Train F1 score: ', f1_score(y_pred_log_train, y_train))\n",
    "print('Test F1 score: ', f1_score(y_pred_log_test,y_test))\n",
    "print()\n",
    "# print confusion matrix\n",
    "print('Confusion matrix test set: \\n', confusion_matrix(y_test, y_pred_log_test)/len(y_test))"
   ]
  },
  {
   "cell_type": "markdown",
   "metadata": {},
   "source": [
    "### Naive Bayes"
   ]
  },
  {
   "cell_type": "code",
   "execution_count": 21,
   "metadata": {},
   "outputs": [
    {
     "name": "stdout",
     "output_type": "stream",
     "text": [
      "Train Accuracy score:  0.94192\n",
      "Test Accuracy score:  0.87616\n",
      "\n",
      "Train F1 score:  0.9423046357615894\n",
      "Test F1 score:  0.8781486146095718\n",
      "\n",
      "Confusion matrix test set: \n",
      " [[0.42992 0.0688 ]\n",
      " [0.05504 0.44624]]\n"
     ]
    }
   ],
   "source": [
    "#INSTANTIATE NB Classifier\n",
    "Naive = MultinomialNB(alpha=0.1, fit_prior= True)\n",
    "\n",
    "#fit to training set\n",
    "Naive.fit(X_train,y_train)\n",
    "\n",
    "#predict on train and test set\n",
    "y_pred_nb_train = Naive.predict(X_train)\n",
    "y_pred_nb_test = Naive.predict(X_test)\n",
    "\n",
    "\n",
    "# checking accuracy\n",
    "print('Train Accuracy score: ', accuracy_score(y_pred_nb_train, y_train))\n",
    "print('Test Accuracy score: ', accuracy_score(y_pred_nb_test, y_test))\n",
    "print()\n",
    "# checking F1\n",
    "print('Train F1 score: ', f1_score(y_pred_nb_train, y_train))\n",
    "print('Test F1 score: ', f1_score(y_pred_nb_test,y_test))\n",
    "print()\n",
    "# print confusion matrix\n",
    "print('Confusion matrix test set: \\n', confusion_matrix(y_test, y_pred_nb_test)/len(y_test))"
   ]
  },
  {
   "cell_type": "code",
   "execution_count": 22,
   "metadata": {},
   "outputs": [],
   "source": [
    "# pickling our best model implementing TFIDF\n",
    "pickle_out = open(\"nb_mod.pickle\",\"wb\")\n",
    "pickle.dump(Naive, pickle_out)\n",
    "pickle_out.close()"
   ]
  },
  {
   "cell_type": "markdown",
   "metadata": {},
   "source": [
    "### Decision Tree"
   ]
  },
  {
   "cell_type": "code",
   "execution_count": 23,
   "metadata": {},
   "outputs": [
    {
     "name": "stdout",
     "output_type": "stream",
     "text": [
      "Train Accuracy score:  1.0\n",
      "Test Accuracy score:  0.71728\n",
      "\n",
      "Train F1 score:  1.0\n",
      "Test F1 score:  0.7174156404925636\n",
      "\n",
      "Confusion matrix test set: \n",
      " [[0.3584  0.14032]\n",
      " [0.1424  0.35888]]\n"
     ]
    }
   ],
   "source": [
    "# INSATNTIATE DECISION TREE MODEL\n",
    "tree = DecisionTreeClassifier(class_weight = 'balanced',random_state = 333)\n",
    "\n",
    "#fit to training set\n",
    "tree.fit(X_train, y_train)\n",
    "\n",
    "#predict on train and test set\n",
    "y_pred_tree_train = tree.predict(X_train)\n",
    "y_pred_tree_test = tree.predict(X_test)\n",
    "\n",
    "\n",
    "# checking accuracy\n",
    "print('Train Accuracy score: ', accuracy_score(y_pred_tree_train, y_train))\n",
    "print('Test Accuracy score: ', accuracy_score(y_pred_tree_test, y_test))\n",
    "print()\n",
    "# checking F1\n",
    "print('Train F1 score: ', f1_score(y_pred_tree_train, y_train))\n",
    "print('Test F1 score: ', f1_score(y_pred_tree_test,y_test))\n",
    "print()\n",
    "# print confusion matrix\n",
    "print('Confusion matrix test set: \\n', confusion_matrix(y_test, y_pred_tree_test)/len(y_test))"
   ]
  },
  {
   "cell_type": "markdown",
   "metadata": {},
   "source": [
    "### Random Forest"
   ]
  },
  {
   "cell_type": "code",
   "execution_count": 24,
   "metadata": {},
   "outputs": [
    {
     "name": "stdout",
     "output_type": "stream",
     "text": [
      "Train Accuracy score:  1.0\n",
      "Test Accuracy score:  0.85312\n",
      "\n",
      "Train F1 score:  1.0\n",
      "Test F1 score:  0.8539147040101845\n",
      "\n",
      "Confusion matrix test set: \n",
      " [[0.42384 0.07488]\n",
      " [0.072   0.42928]]\n"
     ]
    }
   ],
   "source": [
    "#INSTANTIATE RANDOM FOREST MODEL\n",
    "rfc = RandomForestClassifier(random_state = 333, class_weight='balanced')\n",
    "\n",
    "#fit to training set\n",
    "rfc.fit(X_train, y_train)\n",
    "\n",
    "#predict on train and test set\n",
    "y_pred_rfc_train = rfc.predict(X_train)\n",
    "y_pred_rfc_test = rfc.predict(X_test)\n",
    "\n",
    "\n",
    "# checking accuracy\n",
    "print('Train Accuracy score: ', accuracy_score(y_pred_rfc_train, y_train))\n",
    "print('Test Accuracy score: ', accuracy_score(y_pred_rfc_test, y_test))\n",
    "print()\n",
    "# checking F1\n",
    "print('Train F1 score: ', f1_score(y_pred_rfc_train, y_train))\n",
    "print('Test F1 score: ', f1_score(y_pred_rfc_test,y_test))\n",
    "print()\n",
    "# print confusion matrix\n",
    "print('Confusion matrix test set: \\n', confusion_matrix(y_test, y_pred_rfc_test)/len(y_test))"
   ]
  },
  {
   "cell_type": "markdown",
   "metadata": {},
   "source": [
    "## Best TFIDF Model with updated stopwords"
   ]
  },
  {
   "cell_type": "code",
   "execution_count": 25,
   "metadata": {},
   "outputs": [],
   "source": [
    "#train test split and vectorize our cleaned reviews using updated stopwords\n",
    "X_train, X_test, y_train, y_test, TFIDF_vect = split_vectorize(\n",
    "    df['cleaned_reviews'], df['sentiment'], TfidfVectorizer, stopwords_new)"
   ]
  },
  {
   "cell_type": "code",
   "execution_count": 26,
   "metadata": {},
   "outputs": [
    {
     "name": "stdout",
     "output_type": "stream",
     "text": [
      "Train Accuracy score:  0.94112\n",
      "Test Accuracy score:  0.87696\n",
      "\n",
      "Train F1 score:  0.941482031167179\n",
      "Test F1 score:  0.8788785635533155\n",
      "\n",
      "Confusion matrix test set: \n",
      " [[0.43056 0.06816]\n",
      " [0.05488 0.4464 ]]\n"
     ]
    }
   ],
   "source": [
    "#INSTANTIATE NB Classifier\n",
    "Naive_stop = MultinomialNB(alpha=0.1, fit_prior= True)\n",
    "\n",
    "#fit to training set\n",
    "Naive_stop.fit(X_train,y_train)\n",
    "\n",
    "#predict on train and test set\n",
    "y_pred_nb_train = Naive_stop.predict(X_train)\n",
    "y_pred_nb_test = Naive_stop.predict(X_test)\n",
    "\n",
    "\n",
    "# checking accuracy\n",
    "print('Train Accuracy score: ', accuracy_score(y_pred_nb_train, y_train))\n",
    "print('Test Accuracy score: ', accuracy_score(y_pred_nb_test, y_test))\n",
    "print()\n",
    "# checking F1\n",
    "print('Train F1 score: ', f1_score(y_pred_nb_train, y_train))\n",
    "print('Test F1 score: ', f1_score(y_pred_nb_test,y_test))\n",
    "print()\n",
    "# print confusion matrix\n",
    "print('Confusion matrix test set: \\n', confusion_matrix(y_test, y_pred_nb_test)/len(y_test))"
   ]
  },
  {
   "cell_type": "markdown",
   "metadata": {},
   "source": [
    "As with the BOW model, there was really no difference in our scores after removing the most common words from both types of review. We will decide to use the model with them in as there could be value in knowing the context of word groupings with those new stop words left in."
   ]
  },
  {
   "cell_type": "markdown",
   "metadata": {},
   "source": [
    "### Feature Importance (Best Model)"
   ]
  },
  {
   "cell_type": "code",
   "execution_count": 27,
   "metadata": {},
   "outputs": [],
   "source": [
    "#get coefficient values for features and create dict with feature and importance\n",
    "dictionary_nb = dict(zip(list(X_train.columns), list(Naive.coef_[0])))\n",
    "\n",
    "#sort dictionary by most important features\n",
    "dictionary_nb = {k: v for k, v in sorted(dictionary_nb.items(), key=lambda item: abs(item[1]))}\n",
    "\n",
    "# make dictionary a list with most important features at top\n",
    "importance = dictionary_nb.items()\n",
    "nb_features = list(importance)[::-1]"
   ]
  },
  {
   "cell_type": "code",
   "execution_count": 30,
   "metadata": {},
   "outputs": [],
   "source": [
    "NB_features = pd.DataFrame(nb_features[:10], columns = ['Feature', 'Importance'])"
   ]
  },
  {
   "cell_type": "code",
   "execution_count": 34,
   "metadata": {},
   "outputs": [
    {
     "data": {
      "image/png": "[encoded data removed]",
      "text/plain": [
       "<Figure size 864x576 with 1 Axes>"
      ]
     },
     "metadata": {
      "needs_background": "light"
     },
     "output_type": "display_data"
    }
   ],
   "source": [
    "plt.figure(figsize=(12,8))\n",
    "sns.barplot(NB_features['Feature'], NB_features['Importance'])\n",
    "plt.xticks(fontsize=16)\n",
    "plt.xticks(rotation=45)\n",
    "plt.title('Feature Importance (TFIDF)')\n",
    "plt.xlabel('Features')\n",
    "plt.ylabel('Importance')\n",
    "sns.set_style()\n",
    "plt.show()"
   ]
  },
  {
   "cell_type": "markdown",
   "metadata": {},
   "source": [
    "Unlike the BOW model we see more groupings of words show up in the TFIDF's top features. Some of these words seem rather odd though in comparison to the BOW model. For instance take the word  \"zulu\", perhaps that is from a movie that is generally very negative and if it shows up anywhere else the review is automatically classified as negative"
   ]
  },
  {
   "cell_type": "code",
   "execution_count": null,
   "metadata": {},
   "outputs": [],
   "source": []
  }
 ],
 "metadata": {
  "kernelspec": {
   "display_name": "Python 3",
   "language": "python",
   "name": "python3"
  },
  "language_info": {
   "codemirror_mode": {
    "name": "ipython",
    "version": 3
   },
   "file_extension": ".py",
   "mimetype": "text/x-python",
   "name": "python",
   "nbconvert_exporter": "python",
   "pygments_lexer": "ipython3",
   "version": "3.7.6"
  }
 },
 "nbformat": 4,
 "nbformat_minor": 4
}
