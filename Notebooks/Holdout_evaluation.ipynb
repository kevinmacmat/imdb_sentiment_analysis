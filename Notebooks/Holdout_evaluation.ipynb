{
 "cells": [
  {
   "cell_type": "code",
   "execution_count": 1,
   "metadata": {},
   "outputs": [],
   "source": [
    "from sklearn.feature_extraction.text import CountVectorizer, TfidfVectorizer, ENGLISH_STOP_WORDS\n",
    "from nltk import word_tokenize\n",
    "from nltk.stem import PorterStemmer, WordNetLemmatizer\n",
    "from sklearn.tree import DecisionTreeClassifier\n",
    "from sklearn.ensemble import RandomForestClassifier\n",
    "import re\n",
    "from sklearn.linear_model import LogisticRegression\n",
    "from sklearn.naive_bayes import MultinomialNB\n",
    "from sklearn.model_selection import train_test_split\n",
    "from sklearn.metrics import accuracy_score, confusion_matrix, f1_score\n",
    "import pandas as pd\n",
    "import numpy as np\n",
    "from nltk.corpus import stopwords\n",
    "import spacy\n",
    "import pickle"
   ]
  },
  {
   "cell_type": "code",
   "execution_count": 2,
   "metadata": {},
   "outputs": [],
   "source": [
    "df = pd.read_csv('cleaned_holdout_set')"
   ]
  },
  {
   "cell_type": "code",
   "execution_count": 3,
   "metadata": {},
   "outputs": [
    {
     "data": {
      "text/html": [
       "<div>\n",
       "<style scoped>\n",
       "    .dataframe tbody tr th:only-of-type {\n",
       "        vertical-align: middle;\n",
       "    }\n",
       "\n",
       "    .dataframe tbody tr th {\n",
       "        vertical-align: top;\n",
       "    }\n",
       "\n",
       "    .dataframe thead th {\n",
       "        text-align: right;\n",
       "    }\n",
       "</style>\n",
       "<table border=\"1\" class=\"dataframe\">\n",
       "  <thead>\n",
       "    <tr style=\"text-align: right;\">\n",
       "      <th></th>\n",
       "      <th>reviews</th>\n",
       "      <th>sentiment</th>\n",
       "      <th>cleaned_reviews</th>\n",
       "    </tr>\n",
       "  </thead>\n",
       "  <tbody>\n",
       "    <tr>\n",
       "      <th>0</th>\n",
       "      <td>Alan Rickman &amp; Emma Thompson give good perform...</td>\n",
       "      <td>0</td>\n",
       "      <td>alan rickman emma thompson give good performan...</td>\n",
       "    </tr>\n",
       "    <tr>\n",
       "      <th>1</th>\n",
       "      <td>I have seen this movie and I did not care for ...</td>\n",
       "      <td>0</td>\n",
       "      <td>i have see this movie and i do not care for th...</td>\n",
       "    </tr>\n",
       "    <tr>\n",
       "      <th>2</th>\n",
       "      <td>In Los Angeles, the alcoholic and lazy Hank Ch...</td>\n",
       "      <td>0</td>\n",
       "      <td>in los angeles the alcoholic and lazy hank chi...</td>\n",
       "    </tr>\n",
       "    <tr>\n",
       "      <th>3</th>\n",
       "      <td>This film is bundled along with \"Gli fumavano ...</td>\n",
       "      <td>0</td>\n",
       "      <td>this film be bundle along with gli fumavano le...</td>\n",
       "    </tr>\n",
       "    <tr>\n",
       "      <th>4</th>\n",
       "      <td>I only comment on really very good films and o...</td>\n",
       "      <td>0</td>\n",
       "      <td>i only comment on really very good film and on...</td>\n",
       "    </tr>\n",
       "  </tbody>\n",
       "</table>\n",
       "</div>"
      ],
      "text/plain": [
       "                                             reviews  sentiment  \\\n",
       "0  Alan Rickman & Emma Thompson give good perform...          0   \n",
       "1  I have seen this movie and I did not care for ...          0   \n",
       "2  In Los Angeles, the alcoholic and lazy Hank Ch...          0   \n",
       "3  This film is bundled along with \"Gli fumavano ...          0   \n",
       "4  I only comment on really very good films and o...          0   \n",
       "\n",
       "                                     cleaned_reviews  \n",
       "0  alan rickman emma thompson give good performan...  \n",
       "1  i have see this movie and i do not care for th...  \n",
       "2  in los angeles the alcoholic and lazy hank chi...  \n",
       "3  this film be bundle along with gli fumavano le...  \n",
       "4  i only comment on really very good film and on...  "
      ]
     },
     "execution_count": 3,
     "metadata": {},
     "output_type": "execute_result"
    }
   ],
   "source": [
    "df.head()"
   ]
  },
  {
   "cell_type": "code",
   "execution_count": 4,
   "metadata": {},
   "outputs": [
    {
     "name": "stdout",
     "output_type": "stream",
     "text": [
      "['i', 'me', 'my', 'myself', 'we', 'our', 'ours', 'ourselves', 'you', \"you're\", \"you've\", \"you'll\", \"you'd\", 'your', 'yours', 'yourself', 'yourselves', 'he', 'him', 'his', 'himself', 'she', \"she's\", 'her', 'hers', 'herself', 'it', \"it's\", 'its', 'itself', 'they', 'them', 'their', 'theirs', 'themselves', 'what', 'which', 'who', 'whom', 'this', 'that', \"that'll\", 'these', 'those', 'am', 'is', 'are', 'was', 'were', 'be', 'been', 'being', 'have', 'has', 'had', 'having', 'do', 'does', 'did', 'doing', 'a', 'an', 'the', 'and', 'but', 'if', 'or', 'because', 'as', 'until', 'while', 'of', 'at', 'by', 'for', 'with', 'about', 'against', 'between', 'into', 'through', 'during', 'before', 'after', 'above', 'below', 'to', 'from', 'up', 'down', 'in', 'out', 'on', 'off', 'over', 'under', 'again', 'further', 'then', 'once', 'here', 'there', 'when', 'where', 'why', 'how', 'all', 'any', 'both', 'each', 'few', 'more', 'most', 'other', 'some', 'such', 'no', 'nor', 'not', 'only', 'own', 'same', 'so', 'than', 'too', 'very', 's', 't', 'can', 'will', 'just', 'don', \"don't\", 'should', \"should've\", 'now', 'd', 'll', 'm', 'o', 're', 've', 'y', 'ain', 'aren', \"aren't\", 'couldn', \"couldn't\", 'didn', \"didn't\", 'doesn', \"doesn't\", 'hadn', \"hadn't\", 'hasn', \"hasn't\", 'haven', \"haven't\", 'isn', \"isn't\", 'ma', 'mightn', \"mightn't\", 'mustn', \"mustn't\", 'needn', \"needn't\", 'shan', \"shan't\", 'shouldn', \"shouldn't\", 'wasn', \"wasn't\", 'weren', \"weren't\", 'won', \"won't\", 'wouldn', \"wouldn't\", 'pron', '-PRON-']\n"
     ]
    }
   ],
   "source": [
    "stopwords_list = stopwords.words('english')+['pron', '-PRON-']\n",
    "print(stopwords_list)"
   ]
  },
  {
   "cell_type": "markdown",
   "metadata": {},
   "source": [
    "## Import vectorizers/models"
   ]
  },
  {
   "cell_type": "code",
   "execution_count": 6,
   "metadata": {},
   "outputs": [],
   "source": [
    "#BOW vectorizer\n",
    "pickle_in = open(\"BOW_vect.pickle\",\"rb\")\n",
    "BOW_vect = pickle.load(pickle_in)"
   ]
  },
  {
   "cell_type": "code",
   "execution_count": 7,
   "metadata": {},
   "outputs": [],
   "source": [
    "#TFIDF vectorizer\n",
    "pickle_in = open(\"TFIDF_vect.pickle\",\"rb\")\n",
    "TFIDF_vect = pickle.load(pickle_in)"
   ]
  },
  {
   "cell_type": "code",
   "execution_count": 8,
   "metadata": {},
   "outputs": [],
   "source": [
    "# logistic regresion model utilizing CountVectorizer\n",
    "pickle_in = open(\"log_reg_mod.pickle\",\"rb\")\n",
    "log_reg_mod = pickle.load(pickle_in)"
   ]
  },
  {
   "cell_type": "code",
   "execution_count": 9,
   "metadata": {},
   "outputs": [],
   "source": [
    "# Naive Bayes model utilizing TfidfVectorizer\n",
    "pickle_in = open(\"nb_mod.pickle\",\"rb\")\n",
    "nb_mod = pickle.load(pickle_in)"
   ]
  },
  {
   "cell_type": "markdown",
   "metadata": {},
   "source": [
    "## Logistic Regression Model"
   ]
  },
  {
   "cell_type": "code",
   "execution_count": 5,
   "metadata": {},
   "outputs": [],
   "source": [
    "# choose features/target\n",
    "predictors = df['cleaned_reviews']\n",
    "target = df['sentiment']"
   ]
  },
  {
   "cell_type": "code",
   "execution_count": 10,
   "metadata": {},
   "outputs": [],
   "source": [
    "# use vector from trained model\n",
    "BOW_predictors = BOW_vect.transform(predictors)"
   ]
  },
  {
   "cell_type": "code",
   "execution_count": 11,
   "metadata": {},
   "outputs": [],
   "source": [
    "# create dataframe with features as columns\n",
    "BOW_predictors = pd.DataFrame(BOW_predictors.toarray(), columns=BOW_vect.get_feature_names())"
   ]
  },
  {
   "cell_type": "code",
   "execution_count": 12,
   "metadata": {},
   "outputs": [
    {
     "name": "stdout",
     "output_type": "stream",
     "text": [
      "Test Accuracy score:  0.87604\n",
      "Test F1 score:  0.8770091677580664\n",
      "Confusion matrix test set: \n",
      " [[0.43408 0.05804]\n",
      " [0.06592 0.44196]]\n"
     ]
    }
   ],
   "source": [
    "#predict on holdout data\n",
    "y_pred_log = log_reg_mod.predict(BOW_predictors)\n",
    "\n",
    "\n",
    "# checking accuracy\n",
    "print('Holdout Accuracy score: ', accuracy_score(y_pred_log, target))\n",
    "print()\n",
    "# checking F1\n",
    "print('Holdout F1 score: ', f1_score(y_pred_log, target))\n",
    "print()\n",
    "# print confusion matrix\n",
    "print('Confusion matrix Holdout set: \\n', confusion_matrix(target, y_pred_log)/len(target))"
   ]
  },
  {
   "cell_type": "markdown",
   "metadata": {},
   "source": [
    "## Naive Bayes Model"
   ]
  },
  {
   "cell_type": "code",
   "execution_count": 16,
   "metadata": {},
   "outputs": [],
   "source": [
    "# choose features/target\n",
    "predictors = df['cleaned_reviews']\n",
    "target = df['sentiment']"
   ]
  },
  {
   "cell_type": "code",
   "execution_count": 17,
   "metadata": {},
   "outputs": [],
   "source": [
    "# use vector from trained model\n",
    "TFIDF_predictors=TFIDF_vect.transform(predictors)"
   ]
  },
  {
   "cell_type": "code",
   "execution_count": 18,
   "metadata": {},
   "outputs": [],
   "source": [
    "# create dataframe with features as columns\n",
    "TFIDF_predictors = pd.DataFrame(TFIDF_predictors.toarray(), columns=TFIDF_vect.get_feature_names())"
   ]
  },
  {
   "cell_type": "code",
   "execution_count": 19,
   "metadata": {},
   "outputs": [
    {
     "name": "stdout",
     "output_type": "stream",
     "text": [
      "Naive Bayes Test Accuracy Score : 0.85188\n",
      "Test data f1 score:0.8502567835335031\n",
      "confusion_matrix:[[0.43136 0.06864]\n",
      " [0.07948 0.42052]]\n"
     ]
    }
   ],
   "source": [
    "#predict on holdout data\n",
    "y_pred_nb = nb_mod.predict(predictors)\n",
    "\n",
    "# checking accuracy\n",
    "print('Holdout Accuracy score: ', accuracy_score(y_pred_nb, target))\n",
    "print()\n",
    "# checking F1\n",
    "print('Holdout F1 score: ', f1_score(y_pred_nb, target))\n",
    "print()\n",
    "# print confusion matrix\n",
    "print('Confusion matrix Holdout set: \\n', confusion_matrix(target, y_pred_nb)/len(target))"
   ]
  },
  {
   "cell_type": "markdown",
   "metadata": {},
   "source": [
    "## Spacy TextCategorizer model"
   ]
  },
  {
   "cell_type": "code",
   "execution_count": 21,
   "metadata": {},
   "outputs": [
    {
     "name": "stdout",
     "output_type": "stream",
     "text": [
      "Loading from /Users/jason/Flatiron/MOD4\n"
     ]
    }
   ],
   "source": [
    "# load the saved model\n",
    "output_dir=%pwd\n",
    "print(\"Loading from\", output_dir)\n",
    "nlp2 = spacy.load(output_dir)"
   ]
  },
  {
   "cell_type": "code",
   "execution_count": 22,
   "metadata": {},
   "outputs": [
    {
     "name": "stdout",
     "output_type": "stream",
     "text": [
      "This movie is horrible NEGATIVE\n"
     ]
    }
   ],
   "source": [
    "# test that model is correctly loaded\n",
    "test_text = \"This movie is horrible\"\n",
    "doc = nlp2(test_text)\n",
    "print(test_text, max(doc.cats, key=lambda key: doc.cats[key]))"
   ]
  },
  {
   "cell_type": "code",
   "execution_count": 23,
   "metadata": {},
   "outputs": [
    {
     "name": "stdout",
     "output_type": "stream",
     "text": [
      "while there are good points in this movie overall its pretty meh NEGATIVE\n"
     ]
    }
   ],
   "source": [
    "# test model one more time\n",
    "test_text = \"while there are good points in this movie overall its pretty meh\"\n",
    "doc = nlp2(test_text)\n",
    "print(test_text, max(doc.cats, key=lambda key: doc.cats[key]))"
   ]
  },
  {
   "cell_type": "code",
   "execution_count": 24,
   "metadata": {},
   "outputs": [
    {
     "data": {
      "text/plain": [
       "25000"
      ]
     },
     "execution_count": 24,
     "metadata": {},
     "output_type": "execute_result"
    }
   ],
   "source": [
    "# create a list of reviews for model evaluation\n",
    "test = df['reviews'].tolist()\n",
    "len(test)"
   ]
  },
  {
   "cell_type": "code",
   "execution_count": 25,
   "metadata": {},
   "outputs": [],
   "source": [
    "# classify each review in the above list and append its calssification to a list\n",
    "predictions = []\n",
    "for review in test:\n",
    "    doc = nlp2(review)\n",
    "    predictions.append(max(doc.cats, key=lambda key: doc.cats[key]))"
   ]
  },
  {
   "cell_type": "code",
   "execution_count": 29,
   "metadata": {},
   "outputs": [],
   "source": [
    "# creat a column based on the classified list then change to 0 and 1 for evaluation\n",
    "df['predictions'] = predictions\n",
    "df['predictions'] = np.where(df['predictions'] == 'NEGATIVE', 0, 1)"
   ]
  },
  {
   "cell_type": "code",
   "execution_count": 30,
   "metadata": {},
   "outputs": [
    {
     "data": {
      "text/html": [
       "<div>\n",
       "<style scoped>\n",
       "    .dataframe tbody tr th:only-of-type {\n",
       "        vertical-align: middle;\n",
       "    }\n",
       "\n",
       "    .dataframe tbody tr th {\n",
       "        vertical-align: top;\n",
       "    }\n",
       "\n",
       "    .dataframe thead th {\n",
       "        text-align: right;\n",
       "    }\n",
       "</style>\n",
       "<table border=\"1\" class=\"dataframe\">\n",
       "  <thead>\n",
       "    <tr style=\"text-align: right;\">\n",
       "      <th></th>\n",
       "      <th>reviews</th>\n",
       "      <th>sentiment</th>\n",
       "      <th>cleaned_reviews</th>\n",
       "      <th>predictions</th>\n",
       "    </tr>\n",
       "  </thead>\n",
       "  <tbody>\n",
       "    <tr>\n",
       "      <th>0</th>\n",
       "      <td>Alan Rickman &amp; Emma Thompson give good perform...</td>\n",
       "      <td>0</td>\n",
       "      <td>alan rickman emma thompson give good performan...</td>\n",
       "      <td>0</td>\n",
       "    </tr>\n",
       "    <tr>\n",
       "      <th>1</th>\n",
       "      <td>I have seen this movie and I did not care for ...</td>\n",
       "      <td>0</td>\n",
       "      <td>i have see this movie and i do not care for th...</td>\n",
       "      <td>0</td>\n",
       "    </tr>\n",
       "    <tr>\n",
       "      <th>2</th>\n",
       "      <td>In Los Angeles, the alcoholic and lazy Hank Ch...</td>\n",
       "      <td>0</td>\n",
       "      <td>in los angeles the alcoholic and lazy hank chi...</td>\n",
       "      <td>0</td>\n",
       "    </tr>\n",
       "    <tr>\n",
       "      <th>3</th>\n",
       "      <td>This film is bundled along with \"Gli fumavano ...</td>\n",
       "      <td>0</td>\n",
       "      <td>this film be bundle along with gli fumavano le...</td>\n",
       "      <td>0</td>\n",
       "    </tr>\n",
       "    <tr>\n",
       "      <th>4</th>\n",
       "      <td>I only comment on really very good films and o...</td>\n",
       "      <td>0</td>\n",
       "      <td>i only comment on really very good film and on...</td>\n",
       "      <td>0</td>\n",
       "    </tr>\n",
       "  </tbody>\n",
       "</table>\n",
       "</div>"
      ],
      "text/plain": [
       "                                             reviews  sentiment  \\\n",
       "0  Alan Rickman & Emma Thompson give good perform...          0   \n",
       "1  I have seen this movie and I did not care for ...          0   \n",
       "2  In Los Angeles, the alcoholic and lazy Hank Ch...          0   \n",
       "3  This film is bundled along with \"Gli fumavano ...          0   \n",
       "4  I only comment on really very good films and o...          0   \n",
       "\n",
       "                                     cleaned_reviews  predictions  \n",
       "0  alan rickman emma thompson give good performan...            0  \n",
       "1  i have see this movie and i do not care for th...            0  \n",
       "2  in los angeles the alcoholic and lazy hank chi...            0  \n",
       "3  this film be bundle along with gli fumavano le...            0  \n",
       "4  i only comment on really very good film and on...            0  "
      ]
     },
     "execution_count": 30,
     "metadata": {},
     "output_type": "execute_result"
    }
   ],
   "source": [
    "df.head()"
   ]
  },
  {
   "cell_type": "code",
   "execution_count": 32,
   "metadata": {},
   "outputs": [
    {
     "name": "stdout",
     "output_type": "stream",
     "text": [
      "Spacy Model accuracy : 0.89548\n",
      "Test data f1 score:0.895834163842934\n",
      "confusion_matrix:[[0.44604 0.05396]\n",
      " [0.05056 0.44944]]\n"
     ]
    }
   ],
   "source": [
    "# get the column of predictions to evaluate model\n",
    "spacy_predictions = df['predictions']\n",
    "\n",
    "# checking accuracy\n",
    "print('Holdout Accuracy score: ', accuracy_score(spacy_predictions, target))\n",
    "print()\n",
    "# checking F1\n",
    "print('Holdout F1 score: ', f1_score(spacy_predictions, target))\n",
    "print()\n",
    "# print confusion matrix\n",
    "print('Confusion matrix Holdout set: \\n', confusion_matrix(target, spacy_predictions)/len(target))"
   ]
  },
  {
   "cell_type": "code",
   "execution_count": null,
   "metadata": {},
   "outputs": [],
   "source": []
  }
 ],
 "metadata": {
  "kernelspec": {
   "display_name": "Python 3",
   "language": "python",
   "name": "python3"
  },
  "language_info": {
   "codemirror_mode": {
    "name": "ipython",
    "version": 3
   },
   "file_extension": ".py",
   "mimetype": "text/x-python",
   "name": "python",
   "nbconvert_exporter": "python",
   "pygments_lexer": "ipython3",
   "version": "3.7.6"
  }
 },
 "nbformat": 4,
 "nbformat_minor": 4
}
