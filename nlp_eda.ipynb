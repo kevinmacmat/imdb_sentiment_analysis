{
 "cells": [
  {
   "cell_type": "code",
   "execution_count": 1,
   "metadata": {},
   "outputs": [],
   "source": [
    "import pandas as pd\n",
    "import numpy as np\n",
    "from sklearn.feature_extraction.text import CountVectorizer, TfidfVectorizer, ENGLISH_STOP_WORDS\n",
    "import matplotlib.pyplot as plt\n",
    "from functions import *\n",
    "import nltk\n",
    "from nltk.corpus import gutenberg, stopwords\n",
    "from nltk.collocations import *\n",
    "from nltk import FreqDist\n",
    "from nltk import word_tokenize\n",
    "from sklearn.ensemble import RandomForestClassifier\n",
    "from sklearn.naive_bayes import MultinomialNB\n",
    "from sklearn.model_selection import train_test_split\n",
    "from sklearn.metrics import accuracy_score"
   ]
  },
  {
   "cell_type": "code",
   "execution_count": 2,
   "metadata": {},
   "outputs": [],
   "source": [
    "df = pd.read_csv('/Users/kevinmacmat/Desktop/mod_4_nlp_project/reviews_dataframe')"
   ]
  },
  {
   "cell_type": "markdown",
   "metadata": {},
   "source": [
    "### Clean the texts"
   ]
  },
  {
   "cell_type": "code",
   "execution_count": 3,
   "metadata": {},
   "outputs": [],
   "source": [
    "# Removes punctuation, numbers, and makes text lower case\n",
    "cleanText(df, 'reviews')"
   ]
  },
  {
   "cell_type": "code",
   "execution_count": 15,
   "metadata": {},
   "outputs": [
    {
     "data": {
      "text/html": [
       "<div>\n",
       "<style scoped>\n",
       "    .dataframe tbody tr th:only-of-type {\n",
       "        vertical-align: middle;\n",
       "    }\n",
       "\n",
       "    .dataframe tbody tr th {\n",
       "        vertical-align: top;\n",
       "    }\n",
       "\n",
       "    .dataframe thead th {\n",
       "        text-align: right;\n",
       "    }\n",
       "</style>\n",
       "<table border=\"1\" class=\"dataframe\">\n",
       "  <thead>\n",
       "    <tr style=\"text-align: right;\">\n",
       "      <th></th>\n",
       "      <th>reviews</th>\n",
       "      <th>sentiment</th>\n",
       "    </tr>\n",
       "  </thead>\n",
       "  <tbody>\n",
       "    <tr>\n",
       "      <th>0</th>\n",
       "      <td>working with one of the best shakespeare sourc...</td>\n",
       "      <td>0</td>\n",
       "    </tr>\n",
       "    <tr>\n",
       "      <th>1</th>\n",
       "      <td>welltremors i the original started off in  and...</td>\n",
       "      <td>0</td>\n",
       "    </tr>\n",
       "    <tr>\n",
       "      <th>2</th>\n",
       "      <td>ouch this one was a bit painful to sit through...</td>\n",
       "      <td>0</td>\n",
       "    </tr>\n",
       "    <tr>\n",
       "      <th>3</th>\n",
       "      <td>ive seen some crappy movies in my life but thi...</td>\n",
       "      <td>0</td>\n",
       "    </tr>\n",
       "    <tr>\n",
       "      <th>4</th>\n",
       "      <td>carriers follows the exploits of two guys and ...</td>\n",
       "      <td>0</td>\n",
       "    </tr>\n",
       "    <tr>\n",
       "      <th>...</th>\n",
       "      <td>...</td>\n",
       "      <td>...</td>\n",
       "    </tr>\n",
       "    <tr>\n",
       "      <th>24995</th>\n",
       "      <td>about a year ago i finally gave up on american...</td>\n",
       "      <td>1</td>\n",
       "    </tr>\n",
       "    <tr>\n",
       "      <th>24996</th>\n",
       "      <td>when i saw the elaborate dvd box for this and ...</td>\n",
       "      <td>1</td>\n",
       "    </tr>\n",
       "    <tr>\n",
       "      <th>24997</th>\n",
       "      <td>last november i had a chance to see this film ...</td>\n",
       "      <td>1</td>\n",
       "    </tr>\n",
       "    <tr>\n",
       "      <th>24998</th>\n",
       "      <td>great movie i loved it great editing and use o...</td>\n",
       "      <td>1</td>\n",
       "    </tr>\n",
       "    <tr>\n",
       "      <th>24999</th>\n",
       "      <td>enchanted april is a tone poem an impressionis...</td>\n",
       "      <td>1</td>\n",
       "    </tr>\n",
       "  </tbody>\n",
       "</table>\n",
       "<p>25000 rows × 2 columns</p>\n",
       "</div>"
      ],
      "text/plain": [
       "                                                 reviews  sentiment\n",
       "0      working with one of the best shakespeare sourc...          0\n",
       "1      welltremors i the original started off in  and...          0\n",
       "2      ouch this one was a bit painful to sit through...          0\n",
       "3      ive seen some crappy movies in my life but thi...          0\n",
       "4      carriers follows the exploits of two guys and ...          0\n",
       "...                                                  ...        ...\n",
       "24995  about a year ago i finally gave up on american...          1\n",
       "24996  when i saw the elaborate dvd box for this and ...          1\n",
       "24997  last november i had a chance to see this film ...          1\n",
       "24998  great movie i loved it great editing and use o...          1\n",
       "24999  enchanted april is a tone poem an impressionis...          1\n",
       "\n",
       "[25000 rows x 2 columns]"
      ]
     },
     "execution_count": 15,
     "metadata": {},
     "output_type": "execute_result"
    }
   ],
   "source": [
    "df"
   ]
  },
  {
   "cell_type": "markdown",
   "metadata": {},
   "source": [
    "### Create positive and negative dataframes"
   ]
  },
  {
   "cell_type": "code",
   "execution_count": 4,
   "metadata": {},
   "outputs": [],
   "source": [
    "df_negative = df[:12499]"
   ]
  },
  {
   "cell_type": "code",
   "execution_count": 5,
   "metadata": {},
   "outputs": [],
   "source": [
    "df_positive = df[12500:]"
   ]
  },
  {
   "cell_type": "markdown",
   "metadata": {},
   "source": [
    "### Instantiate the count vectorizer"
   ]
  },
  {
   "cell_type": "code",
   "execution_count": 6,
   "metadata": {},
   "outputs": [],
   "source": [
    "# Build the vectorizer, specify max features \n",
    "vect = CountVectorizer(stop_words = ENGLISH_STOP_WORDS, min_df = 10)\n",
    "# can add in ngram_range=(1,2) for uni/bigram analysis, max_df = 200 (limits size of vocab to which occurs in \n",
    "# no more than 200 docs), min_df = 50 (limit size of vocab to ignore terms which occur in less than 50 docs)"
   ]
  },
  {
   "cell_type": "markdown",
   "metadata": {},
   "source": [
    "### Get a sorted dictionary of word counts for full df"
   ]
  },
  {
   "cell_type": "code",
   "execution_count": 7,
   "metadata": {},
   "outputs": [],
   "source": [
    "vect_fit = vect.fit_transform(df['reviews'])\n",
    "word_list = vect.get_feature_names()\n",
    "count_list = vect_fit.toarray().sum(axis=0)\n",
    "count_dict = dict(zip(word_list, count_list))\n",
    "sort_vocab = sorted(count_dict.items(), key=lambda x: x[1], reverse=True)"
   ]
  },
  {
   "cell_type": "code",
   "execution_count": 8,
   "metadata": {},
   "outputs": [
    {
     "data": {
      "text/plain": [
       "[('movie', 42673),\n",
       " ('film', 38260),\n",
       " ('like', 19679),\n",
       " ('just', 17639),\n",
       " ('good', 14711),\n",
       " ('time', 12136),\n",
       " ('really', 11695),\n",
       " ('story', 11677),\n",
       " ('bad', 9063),\n",
       " ('people', 9039),\n",
       " ('great', 8955),\n",
       " ('dont', 8506),\n",
       " ('movies', 7922),\n",
       " ('way', 7876),\n",
       " ('films', 7847),\n",
       " ('make', 7740),\n",
       " ('characters', 7403),\n",
       " ('think', 7258),\n",
       " ('watch', 6883),\n",
       " ('seen', 6641)]"
      ]
     },
     "execution_count": 8,
     "metadata": {},
     "output_type": "execute_result"
    }
   ],
   "source": [
    "sort_vocab[:20]"
   ]
  },
  {
   "cell_type": "markdown",
   "metadata": {},
   "source": [
    "### Get a sorted dictionary of word counts for df_negative"
   ]
  },
  {
   "cell_type": "code",
   "execution_count": 9,
   "metadata": {},
   "outputs": [],
   "source": [
    "neg_vect = CountVectorizer(stop_words = ENGLISH_STOP_WORDS, min_df = 10)\n",
    "neg_vect_fit = neg_vect.fit_transform(df_negative['reviews'])\n",
    "neg_word_list = neg_vect.get_feature_names()\n",
    "neg_count_list = neg_vect_fit.toarray().sum(axis=0)\n",
    "neg_count_dict = dict(zip(neg_word_list, neg_count_list))\n",
    "neg_sort_vocab = sorted(neg_count_dict.items(), key=lambda x: x[1], reverse=True)"
   ]
  },
  {
   "cell_type": "code",
   "execution_count": 10,
   "metadata": {},
   "outputs": [
    {
     "data": {
      "text/plain": [
       "[('movie', 24182),\n",
       " ('film', 18287),\n",
       " ('like', 10929),\n",
       " ('just', 10541),\n",
       " ('good', 7232),\n",
       " ('bad', 7216),\n",
       " ('really', 6231),\n",
       " ('time', 5959),\n",
       " ('dont', 5181),\n",
       " ('story', 5073),\n",
       " ('people', 4685),\n",
       " ('make', 4555),\n",
       " ('movies', 4201),\n",
       " ('plot', 4023),\n",
       " ('acting', 3979),\n",
       " ('way', 3902),\n",
       " ('characters', 3741),\n",
       " ('think', 3626),\n",
       " ('films', 3521),\n",
       " ('watch', 3512)]"
      ]
     },
     "execution_count": 10,
     "metadata": {},
     "output_type": "execute_result"
    }
   ],
   "source": [
    "neg_sort_vocab[:20]"
   ]
  },
  {
   "cell_type": "markdown",
   "metadata": {},
   "source": [
    "### Get a sorted dictionary of word counts for df_positive"
   ]
  },
  {
   "cell_type": "code",
   "execution_count": 11,
   "metadata": {},
   "outputs": [],
   "source": [
    "pos_vect = CountVectorizer(stop_words = ENGLISH_STOP_WORDS, min_df = 10)\n",
    "pos_vect_fit = pos_vect.fit_transform(df_positive['reviews'])\n",
    "pos_word_list = pos_vect.get_feature_names()\n",
    "pos_count_list = pos_vect_fit.toarray().sum(axis=0)\n",
    "pos_count_dict = dict(zip(pos_word_list, pos_count_list))\n",
    "pos_sort_vocab = sorted(pos_count_dict.items(), key=lambda x: x[1], reverse=True)"
   ]
  },
  {
   "cell_type": "code",
   "execution_count": 12,
   "metadata": {
    "scrolled": true
   },
   "outputs": [
    {
     "data": {
      "text/plain": [
       "[('film', 19973),\n",
       " ('movie', 18490),\n",
       " ('like', 8750),\n",
       " ('good', 7479),\n",
       " ('just', 7098),\n",
       " ('story', 6603),\n",
       " ('great', 6334),\n",
       " ('time', 6177),\n",
       " ('really', 5464),\n",
       " ('people', 4354),\n",
       " ('films', 4326),\n",
       " ('best', 4255),\n",
       " ('love', 4194),\n",
       " ('way', 3974),\n",
       " ('life', 3908),\n",
       " ('movies', 3720),\n",
       " ('characters', 3662),\n",
       " ('think', 3632),\n",
       " ('seen', 3396),\n",
       " ('watch', 3371)]"
      ]
     },
     "execution_count": 12,
     "metadata": {},
     "output_type": "execute_result"
    }
   ],
   "source": [
    "pos_sort_vocab[:20]"
   ]
  },
  {
   "cell_type": "markdown",
   "metadata": {},
   "source": [
    "---"
   ]
  },
  {
   "cell_type": "code",
   "execution_count": 19,
   "metadata": {},
   "outputs": [],
   "source": [
    "# Create column of each review's length\n",
    "df['length'] = [len(x) for x in df['reviews']]"
   ]
  },
  {
   "cell_type": "code",
   "execution_count": 25,
   "metadata": {},
   "outputs": [
    {
     "data": {
      "text/plain": [
       "13291"
      ]
     },
     "execution_count": 25,
     "metadata": {},
     "output_type": "execute_result"
    }
   ],
   "source": [
    "# Maximum Review Length\n",
    "df.length.max()"
   ]
  },
  {
   "cell_type": "code",
   "execution_count": 52,
   "metadata": {},
   "outputs": [
    {
     "data": {
      "text/plain": [
       "1260.45028"
      ]
     },
     "execution_count": 52,
     "metadata": {},
     "output_type": "execute_result"
    }
   ],
   "source": [
    "# Average Review Length\n",
    "df.length.values.mean()"
   ]
  },
  {
   "cell_type": "code",
   "execution_count": 48,
   "metadata": {},
   "outputs": [
    {
     "data": {
      "image/png": "[encoded data removed]",
      "text/plain": [
       "<Figure size 432x288 with 1 Axes>"
      ]
     },
     "metadata": {
      "needs_background": "light"
     },
     "output_type": "display_data"
    }
   ],
   "source": [
    "plt.hist(df.length.values, bins=[500,1000,1500,2000,2500,3000,3500,4000,4500,5000,5500,6000])\n",
    "plt.title('Distribution of Review Lengths')\n",
    "plt.xlabel('Review Count')\n",
    "plt.ylabel('Review Length')\n",
    "plt.show()"
   ]
  },
  {
   "cell_type": "code",
   "execution_count": 50,
   "metadata": {},
   "outputs": [
    {
     "data": {
      "image/png": "[encoded data removed]",
      "text/plain": [
       "<Figure size 432x288 with 1 Axes>"
      ]
     },
     "metadata": {
      "needs_background": "light"
     },
     "output_type": "display_data"
    }
   ],
   "source": [
    "plt.hist(df.length.values, bins=[200,400,600,800,1000,1200,1400,1600,1800,2000,2500,3000])\n",
    "plt.title('Distribution of Review Lengths')\n",
    "plt.xlabel('Review Count')\n",
    "plt.ylabel('Review Length')\n",
    "plt.show()"
   ]
  },
  {
   "cell_type": "code",
   "execution_count": 51,
   "metadata": {},
   "outputs": [
    {
     "data": {
      "image/png": "[encoded data removed]",
      "text/plain": [
       "<Figure size 432x288 with 1 Axes>"
      ]
     },
     "metadata": {
      "needs_background": "light"
     },
     "output_type": "display_data"
    }
   ],
   "source": [
    "plt.boxplot(df.length.values)\n",
    "plt.ylabel('Review Length')\n",
    "plt.show()"
   ]
  }
 ],
 "metadata": {
  "kernelspec": {
   "display_name": "Python 3",
   "language": "python",
   "name": "python3"
  },
  "language_info": {
   "codemirror_mode": {
    "name": "ipython",
    "version": 3
   },
   "file_extension": ".py",
   "mimetype": "text/x-python",
   "name": "python",
   "nbconvert_exporter": "python",
   "pygments_lexer": "ipython3",
   "version": "3.7.6"
  }
 },
 "nbformat": 4,
 "nbformat_minor": 4
}
